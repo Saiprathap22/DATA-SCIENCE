{
 "cells": [
  {
   "cell_type": "code",
   "execution_count": 75,
   "id": "09df4c1b",
   "metadata": {},
   "outputs": [],
   "source": [
    "import pandas as pd \n",
    "import numpy as np\n",
    "import matplotlib.pyplot as plt\n",
    "import seaborn as sns"
   ]
  },
  {
   "cell_type": "code",
   "execution_count": 76,
   "id": "96fc871d",
   "metadata": {},
   "outputs": [
    {
     "data": {
      "text/html": [
       "<div>\n",
       "<style scoped>\n",
       "    .dataframe tbody tr th:only-of-type {\n",
       "        vertical-align: middle;\n",
       "    }\n",
       "\n",
       "    .dataframe tbody tr th {\n",
       "        vertical-align: top;\n",
       "    }\n",
       "\n",
       "    .dataframe thead th {\n",
       "        text-align: right;\n",
       "    }\n",
       "</style>\n",
       "<table border=\"1\" class=\"dataframe\">\n",
       "  <thead>\n",
       "    <tr style=\"text-align: right;\">\n",
       "      <th></th>\n",
       "      <th>LB</th>\n",
       "      <th>AC</th>\n",
       "      <th>FM</th>\n",
       "      <th>UC</th>\n",
       "      <th>DL</th>\n",
       "      <th>DS</th>\n",
       "      <th>DP</th>\n",
       "      <th>ASTV</th>\n",
       "      <th>MSTV</th>\n",
       "      <th>ALTV</th>\n",
       "      <th>MLTV</th>\n",
       "      <th>Width</th>\n",
       "      <th>Tendency</th>\n",
       "      <th>NSP</th>\n",
       "    </tr>\n",
       "  </thead>\n",
       "  <tbody>\n",
       "    <tr>\n",
       "      <th>0</th>\n",
       "      <td>120.000000</td>\n",
       "      <td>0.000000</td>\n",
       "      <td>0.0</td>\n",
       "      <td>0.000000</td>\n",
       "      <td>0.000000</td>\n",
       "      <td>0.0</td>\n",
       "      <td>0.0</td>\n",
       "      <td>73.0</td>\n",
       "      <td>0.5</td>\n",
       "      <td>43.0</td>\n",
       "      <td>2.4</td>\n",
       "      <td>64.0</td>\n",
       "      <td>0.999926</td>\n",
       "      <td>2.0</td>\n",
       "    </tr>\n",
       "    <tr>\n",
       "      <th>1</th>\n",
       "      <td>132.000000</td>\n",
       "      <td>0.006380</td>\n",
       "      <td>0.0</td>\n",
       "      <td>0.006380</td>\n",
       "      <td>0.003190</td>\n",
       "      <td>0.0</td>\n",
       "      <td>0.0</td>\n",
       "      <td>17.0</td>\n",
       "      <td>2.1</td>\n",
       "      <td>0.0</td>\n",
       "      <td>10.4</td>\n",
       "      <td>130.0</td>\n",
       "      <td>0.000000</td>\n",
       "      <td>1.0</td>\n",
       "    </tr>\n",
       "    <tr>\n",
       "      <th>2</th>\n",
       "      <td>133.000000</td>\n",
       "      <td>0.003322</td>\n",
       "      <td>0.0</td>\n",
       "      <td>0.008306</td>\n",
       "      <td>0.003322</td>\n",
       "      <td>0.0</td>\n",
       "      <td>0.0</td>\n",
       "      <td>16.0</td>\n",
       "      <td>2.1</td>\n",
       "      <td>0.0</td>\n",
       "      <td>13.4</td>\n",
       "      <td>130.0</td>\n",
       "      <td>0.000000</td>\n",
       "      <td>1.0</td>\n",
       "    </tr>\n",
       "    <tr>\n",
       "      <th>3</th>\n",
       "      <td>134.000000</td>\n",
       "      <td>0.002561</td>\n",
       "      <td>0.0</td>\n",
       "      <td>0.007742</td>\n",
       "      <td>0.002561</td>\n",
       "      <td>0.0</td>\n",
       "      <td>0.0</td>\n",
       "      <td>16.0</td>\n",
       "      <td>2.4</td>\n",
       "      <td>0.0</td>\n",
       "      <td>23.0</td>\n",
       "      <td>117.0</td>\n",
       "      <td>1.000000</td>\n",
       "      <td>1.0</td>\n",
       "    </tr>\n",
       "    <tr>\n",
       "      <th>4</th>\n",
       "      <td>131.948232</td>\n",
       "      <td>0.006515</td>\n",
       "      <td>0.0</td>\n",
       "      <td>0.008143</td>\n",
       "      <td>0.000000</td>\n",
       "      <td>0.0</td>\n",
       "      <td>0.0</td>\n",
       "      <td>16.0</td>\n",
       "      <td>2.4</td>\n",
       "      <td>0.0</td>\n",
       "      <td>19.9</td>\n",
       "      <td>117.0</td>\n",
       "      <td>1.000000</td>\n",
       "      <td>1.0</td>\n",
       "    </tr>\n",
       "  </tbody>\n",
       "</table>\n",
       "</div>"
      ],
      "text/plain": [
       "           LB        AC   FM        UC        DL   DS   DP  ASTV  MSTV  ALTV  \\\n",
       "0  120.000000  0.000000  0.0  0.000000  0.000000  0.0  0.0  73.0   0.5  43.0   \n",
       "1  132.000000  0.006380  0.0  0.006380  0.003190  0.0  0.0  17.0   2.1   0.0   \n",
       "2  133.000000  0.003322  0.0  0.008306  0.003322  0.0  0.0  16.0   2.1   0.0   \n",
       "3  134.000000  0.002561  0.0  0.007742  0.002561  0.0  0.0  16.0   2.4   0.0   \n",
       "4  131.948232  0.006515  0.0  0.008143  0.000000  0.0  0.0  16.0   2.4   0.0   \n",
       "\n",
       "   MLTV  Width  Tendency  NSP  \n",
       "0   2.4   64.0  0.999926  2.0  \n",
       "1  10.4  130.0  0.000000  1.0  \n",
       "2  13.4  130.0  0.000000  1.0  \n",
       "3  23.0  117.0  1.000000  1.0  \n",
       "4  19.9  117.0  1.000000  1.0  "
      ]
     },
     "execution_count": 76,
     "metadata": {},
     "output_type": "execute_result"
    }
   ],
   "source": [
    "data=pd.read_csv(r\"C:\\Users\\T VENKAT SAI PRATHAP\\Downloads\\EDA1\\EDA1\\Cardiotocographic.csv\")\n",
    "data.head()"
   ]
  },
  {
   "cell_type": "code",
   "execution_count": 77,
   "id": "993fc750",
   "metadata": {},
   "outputs": [
    {
     "name": "stdout",
     "output_type": "stream",
     "text": [
      "<class 'pandas.core.frame.DataFrame'>\n",
      "RangeIndex: 2126 entries, 0 to 2125\n",
      "Data columns (total 14 columns):\n",
      " #   Column    Non-Null Count  Dtype  \n",
      "---  ------    --------------  -----  \n",
      " 0   LB        2105 non-null   float64\n",
      " 1   AC        2106 non-null   float64\n",
      " 2   FM        2126 non-null   float64\n",
      " 3   UC        2126 non-null   float64\n",
      " 4   DL        2126 non-null   float64\n",
      " 5   DS        2105 non-null   float64\n",
      " 6   DP        2105 non-null   float64\n",
      " 7   ASTV      2126 non-null   float64\n",
      " 8   MSTV      2126 non-null   float64\n",
      " 9   ALTV      2126 non-null   float64\n",
      " 10  MLTV      2105 non-null   float64\n",
      " 11  Width     2105 non-null   float64\n",
      " 12  Tendency  2105 non-null   float64\n",
      " 13  NSP       2105 non-null   float64\n",
      "dtypes: float64(14)\n",
      "memory usage: 232.7 KB\n"
     ]
    }
   ],
   "source": [
    "data.info()"
   ]
  },
  {
   "cell_type": "markdown",
   "id": "30f937b9-5a2d-4319-a691-5ce25fcea21c",
   "metadata": {},
   "source": [
    "###   \tStatistical Summary Cardiotocographic"
   ]
  },
  {
   "cell_type": "code",
   "execution_count": 78,
   "id": "4f5576ee",
   "metadata": {},
   "outputs": [
    {
     "data": {
      "text/html": [
       "<div>\n",
       "<style scoped>\n",
       "    .dataframe tbody tr th:only-of-type {\n",
       "        vertical-align: middle;\n",
       "    }\n",
       "\n",
       "    .dataframe tbody tr th {\n",
       "        vertical-align: top;\n",
       "    }\n",
       "\n",
       "    .dataframe thead th {\n",
       "        text-align: right;\n",
       "    }\n",
       "</style>\n",
       "<table border=\"1\" class=\"dataframe\">\n",
       "  <thead>\n",
       "    <tr style=\"text-align: right;\">\n",
       "      <th></th>\n",
       "      <th>LB</th>\n",
       "      <th>AC</th>\n",
       "      <th>FM</th>\n",
       "      <th>UC</th>\n",
       "      <th>DL</th>\n",
       "      <th>DS</th>\n",
       "      <th>DP</th>\n",
       "      <th>ASTV</th>\n",
       "      <th>MSTV</th>\n",
       "      <th>ALTV</th>\n",
       "      <th>MLTV</th>\n",
       "      <th>Width</th>\n",
       "      <th>Tendency</th>\n",
       "      <th>NSP</th>\n",
       "    </tr>\n",
       "  </thead>\n",
       "  <tbody>\n",
       "    <tr>\n",
       "      <th>count</th>\n",
       "      <td>2105.000000</td>\n",
       "      <td>2106.000000</td>\n",
       "      <td>2126.000000</td>\n",
       "      <td>2126.000000</td>\n",
       "      <td>2126.000000</td>\n",
       "      <td>2105.000000</td>\n",
       "      <td>2105.000000</td>\n",
       "      <td>2126.000000</td>\n",
       "      <td>2126.000000</td>\n",
       "      <td>2126.000000</td>\n",
       "      <td>2105.000000</td>\n",
       "      <td>2105.000000</td>\n",
       "      <td>2105.000000</td>\n",
       "      <td>2105.000000</td>\n",
       "    </tr>\n",
       "    <tr>\n",
       "      <th>mean</th>\n",
       "      <td>133.343598</td>\n",
       "      <td>0.003219</td>\n",
       "      <td>0.009894</td>\n",
       "      <td>0.004391</td>\n",
       "      <td>0.001895</td>\n",
       "      <td>0.000003</td>\n",
       "      <td>0.000175</td>\n",
       "      <td>46.995984</td>\n",
       "      <td>1.364378</td>\n",
       "      <td>10.285964</td>\n",
       "      <td>8.284887</td>\n",
       "      <td>70.429260</td>\n",
       "      <td>0.316371</td>\n",
       "      <td>1.304507</td>\n",
       "    </tr>\n",
       "    <tr>\n",
       "      <th>std</th>\n",
       "      <td>11.270154</td>\n",
       "      <td>0.004391</td>\n",
       "      <td>0.067540</td>\n",
       "      <td>0.003340</td>\n",
       "      <td>0.003343</td>\n",
       "      <td>0.000142</td>\n",
       "      <td>0.000840</td>\n",
       "      <td>18.813973</td>\n",
       "      <td>1.173632</td>\n",
       "      <td>21.205041</td>\n",
       "      <td>7.772858</td>\n",
       "      <td>42.931822</td>\n",
       "      <td>0.645622</td>\n",
       "      <td>0.644619</td>\n",
       "    </tr>\n",
       "    <tr>\n",
       "      <th>min</th>\n",
       "      <td>51.842487</td>\n",
       "      <td>-0.019284</td>\n",
       "      <td>-0.480634</td>\n",
       "      <td>-0.014925</td>\n",
       "      <td>-0.015393</td>\n",
       "      <td>-0.001353</td>\n",
       "      <td>-0.005348</td>\n",
       "      <td>-63.000000</td>\n",
       "      <td>-6.600000</td>\n",
       "      <td>-91.000000</td>\n",
       "      <td>-50.700000</td>\n",
       "      <td>-174.000000</td>\n",
       "      <td>-3.000000</td>\n",
       "      <td>-1.025988</td>\n",
       "    </tr>\n",
       "    <tr>\n",
       "      <th>25%</th>\n",
       "      <td>126.000000</td>\n",
       "      <td>0.000000</td>\n",
       "      <td>0.000000</td>\n",
       "      <td>0.001851</td>\n",
       "      <td>0.000000</td>\n",
       "      <td>0.000000</td>\n",
       "      <td>0.000000</td>\n",
       "      <td>32.000000</td>\n",
       "      <td>0.700000</td>\n",
       "      <td>0.000000</td>\n",
       "      <td>4.600000</td>\n",
       "      <td>37.000000</td>\n",
       "      <td>0.000000</td>\n",
       "      <td>1.000000</td>\n",
       "    </tr>\n",
       "    <tr>\n",
       "      <th>50%</th>\n",
       "      <td>133.000000</td>\n",
       "      <td>0.001634</td>\n",
       "      <td>0.000000</td>\n",
       "      <td>0.004484</td>\n",
       "      <td>0.000000</td>\n",
       "      <td>0.000000</td>\n",
       "      <td>0.000000</td>\n",
       "      <td>49.000000</td>\n",
       "      <td>1.200000</td>\n",
       "      <td>0.000000</td>\n",
       "      <td>7.400000</td>\n",
       "      <td>67.000000</td>\n",
       "      <td>0.000000</td>\n",
       "      <td>1.000000</td>\n",
       "    </tr>\n",
       "    <tr>\n",
       "      <th>75%</th>\n",
       "      <td>140.000000</td>\n",
       "      <td>0.005650</td>\n",
       "      <td>0.002567</td>\n",
       "      <td>0.006536</td>\n",
       "      <td>0.003289</td>\n",
       "      <td>0.000000</td>\n",
       "      <td>0.000000</td>\n",
       "      <td>61.000000</td>\n",
       "      <td>1.700000</td>\n",
       "      <td>11.000000</td>\n",
       "      <td>10.900000</td>\n",
       "      <td>100.000000</td>\n",
       "      <td>1.000000</td>\n",
       "      <td>1.000000</td>\n",
       "    </tr>\n",
       "    <tr>\n",
       "      <th>max</th>\n",
       "      <td>214.000000</td>\n",
       "      <td>0.038567</td>\n",
       "      <td>0.961268</td>\n",
       "      <td>0.030002</td>\n",
       "      <td>0.030769</td>\n",
       "      <td>0.002706</td>\n",
       "      <td>0.010695</td>\n",
       "      <td>162.000000</td>\n",
       "      <td>13.800000</td>\n",
       "      <td>182.000000</td>\n",
       "      <td>101.400000</td>\n",
       "      <td>357.000000</td>\n",
       "      <td>3.000000</td>\n",
       "      <td>5.000000</td>\n",
       "    </tr>\n",
       "  </tbody>\n",
       "</table>\n",
       "</div>"
      ],
      "text/plain": [
       "                LB           AC           FM           UC           DL  \\\n",
       "count  2105.000000  2106.000000  2126.000000  2126.000000  2126.000000   \n",
       "mean    133.343598     0.003219     0.009894     0.004391     0.001895   \n",
       "std      11.270154     0.004391     0.067540     0.003340     0.003343   \n",
       "min      51.842487    -0.019284    -0.480634    -0.014925    -0.015393   \n",
       "25%     126.000000     0.000000     0.000000     0.001851     0.000000   \n",
       "50%     133.000000     0.001634     0.000000     0.004484     0.000000   \n",
       "75%     140.000000     0.005650     0.002567     0.006536     0.003289   \n",
       "max     214.000000     0.038567     0.961268     0.030002     0.030769   \n",
       "\n",
       "                DS           DP         ASTV         MSTV         ALTV  \\\n",
       "count  2105.000000  2105.000000  2126.000000  2126.000000  2126.000000   \n",
       "mean      0.000003     0.000175    46.995984     1.364378    10.285964   \n",
       "std       0.000142     0.000840    18.813973     1.173632    21.205041   \n",
       "min      -0.001353    -0.005348   -63.000000    -6.600000   -91.000000   \n",
       "25%       0.000000     0.000000    32.000000     0.700000     0.000000   \n",
       "50%       0.000000     0.000000    49.000000     1.200000     0.000000   \n",
       "75%       0.000000     0.000000    61.000000     1.700000    11.000000   \n",
       "max       0.002706     0.010695   162.000000    13.800000   182.000000   \n",
       "\n",
       "              MLTV        Width     Tendency          NSP  \n",
       "count  2105.000000  2105.000000  2105.000000  2105.000000  \n",
       "mean      8.284887    70.429260     0.316371     1.304507  \n",
       "std       7.772858    42.931822     0.645622     0.644619  \n",
       "min     -50.700000  -174.000000    -3.000000    -1.025988  \n",
       "25%       4.600000    37.000000     0.000000     1.000000  \n",
       "50%       7.400000    67.000000     0.000000     1.000000  \n",
       "75%      10.900000   100.000000     1.000000     1.000000  \n",
       "max     101.400000   357.000000     3.000000     5.000000  "
      ]
     },
     "execution_count": 78,
     "metadata": {},
     "output_type": "execute_result"
    }
   ],
   "source": [
    "data.describe()"
   ]
  },
  {
   "cell_type": "code",
   "execution_count": 79,
   "id": "028f3a7b",
   "metadata": {},
   "outputs": [
    {
     "data": {
      "text/plain": [
       "LB          float64\n",
       "AC          float64\n",
       "FM          float64\n",
       "UC          float64\n",
       "DL          float64\n",
       "DS          float64\n",
       "DP          float64\n",
       "ASTV        float64\n",
       "MSTV        float64\n",
       "ALTV        float64\n",
       "MLTV        float64\n",
       "Width       float64\n",
       "Tendency    float64\n",
       "NSP         float64\n",
       "dtype: object"
      ]
     },
     "execution_count": 79,
     "metadata": {},
     "output_type": "execute_result"
    }
   ],
   "source": [
    "data.dtypes"
   ]
  },
  {
   "cell_type": "code",
   "execution_count": 80,
   "id": "40b54a73",
   "metadata": {},
   "outputs": [
    {
     "data": {
      "text/plain": [
       "LB          21\n",
       "AC          20\n",
       "FM           0\n",
       "UC           0\n",
       "DL           0\n",
       "DS          21\n",
       "DP          21\n",
       "ASTV         0\n",
       "MSTV         0\n",
       "ALTV         0\n",
       "MLTV        21\n",
       "Width       21\n",
       "Tendency    21\n",
       "NSP         21\n",
       "dtype: int64"
      ]
     },
     "execution_count": 80,
     "metadata": {},
     "output_type": "execute_result"
    }
   ],
   "source": [
    "data.isnull().sum()"
   ]
  },
  {
   "cell_type": "code",
   "execution_count": 81,
   "id": "e906860b",
   "metadata": {},
   "outputs": [
    {
     "data": {
      "text/plain": [
       "(2126, 14)"
      ]
     },
     "execution_count": 81,
     "metadata": {},
     "output_type": "execute_result"
    }
   ],
   "source": [
    "data.shape"
   ]
  },
  {
   "cell_type": "code",
   "execution_count": 82,
   "id": "10d35843",
   "metadata": {},
   "outputs": [
    {
     "data": {
      "text/html": [
       "<div>\n",
       "<style scoped>\n",
       "    .dataframe tbody tr th:only-of-type {\n",
       "        vertical-align: middle;\n",
       "    }\n",
       "\n",
       "    .dataframe tbody tr th {\n",
       "        vertical-align: top;\n",
       "    }\n",
       "\n",
       "    .dataframe thead th {\n",
       "        text-align: right;\n",
       "    }\n",
       "</style>\n",
       "<table border=\"1\" class=\"dataframe\">\n",
       "  <thead>\n",
       "    <tr style=\"text-align: right;\">\n",
       "      <th></th>\n",
       "      <th>LB</th>\n",
       "      <th>AC</th>\n",
       "      <th>FM</th>\n",
       "      <th>UC</th>\n",
       "      <th>DL</th>\n",
       "      <th>DS</th>\n",
       "      <th>DP</th>\n",
       "      <th>ASTV</th>\n",
       "      <th>MSTV</th>\n",
       "      <th>ALTV</th>\n",
       "      <th>MLTV</th>\n",
       "      <th>Width</th>\n",
       "      <th>Tendency</th>\n",
       "      <th>NSP</th>\n",
       "    </tr>\n",
       "  </thead>\n",
       "  <tbody>\n",
       "    <tr>\n",
       "      <th>1113</th>\n",
       "      <td>122.0</td>\n",
       "      <td>0.000000</td>\n",
       "      <td>0.0</td>\n",
       "      <td>0.000000</td>\n",
       "      <td>0.0</td>\n",
       "      <td>0.0</td>\n",
       "      <td>0.0</td>\n",
       "      <td>19.0</td>\n",
       "      <td>1.9</td>\n",
       "      <td>0.0</td>\n",
       "      <td>15.1</td>\n",
       "      <td>39.0</td>\n",
       "      <td>0.0</td>\n",
       "      <td>1.0</td>\n",
       "    </tr>\n",
       "    <tr>\n",
       "      <th>1115</th>\n",
       "      <td>122.0</td>\n",
       "      <td>0.000000</td>\n",
       "      <td>0.0</td>\n",
       "      <td>0.000000</td>\n",
       "      <td>0.0</td>\n",
       "      <td>0.0</td>\n",
       "      <td>0.0</td>\n",
       "      <td>19.0</td>\n",
       "      <td>1.9</td>\n",
       "      <td>0.0</td>\n",
       "      <td>15.1</td>\n",
       "      <td>39.0</td>\n",
       "      <td>0.0</td>\n",
       "      <td>1.0</td>\n",
       "    </tr>\n",
       "    <tr>\n",
       "      <th>1457</th>\n",
       "      <td>148.0</td>\n",
       "      <td>0.004717</td>\n",
       "      <td>0.0</td>\n",
       "      <td>0.002358</td>\n",
       "      <td>0.0</td>\n",
       "      <td>0.0</td>\n",
       "      <td>0.0</td>\n",
       "      <td>40.0</td>\n",
       "      <td>0.9</td>\n",
       "      <td>0.0</td>\n",
       "      <td>10.6</td>\n",
       "      <td>35.0</td>\n",
       "      <td>0.0</td>\n",
       "      <td>1.0</td>\n",
       "    </tr>\n",
       "    <tr>\n",
       "      <th>1458</th>\n",
       "      <td>148.0</td>\n",
       "      <td>0.004717</td>\n",
       "      <td>0.0</td>\n",
       "      <td>0.002358</td>\n",
       "      <td>0.0</td>\n",
       "      <td>0.0</td>\n",
       "      <td>0.0</td>\n",
       "      <td>40.0</td>\n",
       "      <td>0.9</td>\n",
       "      <td>0.0</td>\n",
       "      <td>10.6</td>\n",
       "      <td>35.0</td>\n",
       "      <td>0.0</td>\n",
       "      <td>1.0</td>\n",
       "    </tr>\n",
       "  </tbody>\n",
       "</table>\n",
       "</div>"
      ],
      "text/plain": [
       "         LB        AC   FM        UC   DL   DS   DP  ASTV  MSTV  ALTV  MLTV  \\\n",
       "1113  122.0  0.000000  0.0  0.000000  0.0  0.0  0.0  19.0   1.9   0.0  15.1   \n",
       "1115  122.0  0.000000  0.0  0.000000  0.0  0.0  0.0  19.0   1.9   0.0  15.1   \n",
       "1457  148.0  0.004717  0.0  0.002358  0.0  0.0  0.0  40.0   0.9   0.0  10.6   \n",
       "1458  148.0  0.004717  0.0  0.002358  0.0  0.0  0.0  40.0   0.9   0.0  10.6   \n",
       "\n",
       "      Width  Tendency  NSP  \n",
       "1113   39.0       0.0  1.0  \n",
       "1115   39.0       0.0  1.0  \n",
       "1457   35.0       0.0  1.0  \n",
       "1458   35.0       0.0  1.0  "
      ]
     },
     "execution_count": 82,
     "metadata": {},
     "output_type": "execute_result"
    }
   ],
   "source": [
    "data[data.duplicated(keep=False)]"
   ]
  },
  {
   "cell_type": "code",
   "execution_count": 84,
   "id": "e1eb8404",
   "metadata": {},
   "outputs": [
    {
     "data": {
      "text/html": [
       "<div>\n",
       "<style scoped>\n",
       "    .dataframe tbody tr th:only-of-type {\n",
       "        vertical-align: middle;\n",
       "    }\n",
       "\n",
       "    .dataframe tbody tr th {\n",
       "        vertical-align: top;\n",
       "    }\n",
       "\n",
       "    .dataframe thead th {\n",
       "        text-align: right;\n",
       "    }\n",
       "</style>\n",
       "<table border=\"1\" class=\"dataframe\">\n",
       "  <thead>\n",
       "    <tr style=\"text-align: right;\">\n",
       "      <th></th>\n",
       "      <th>index</th>\n",
       "      <th>LB</th>\n",
       "      <th>AC</th>\n",
       "      <th>FM</th>\n",
       "      <th>UC</th>\n",
       "      <th>DL</th>\n",
       "      <th>DS</th>\n",
       "      <th>DP</th>\n",
       "      <th>ASTV</th>\n",
       "      <th>MSTV</th>\n",
       "      <th>ALTV</th>\n",
       "      <th>MLTV</th>\n",
       "      <th>Width</th>\n",
       "      <th>Tendency</th>\n",
       "      <th>NSP</th>\n",
       "    </tr>\n",
       "  </thead>\n",
       "  <tbody>\n",
       "    <tr>\n",
       "      <th>0</th>\n",
       "      <td>0</td>\n",
       "      <td>120.000000</td>\n",
       "      <td>0.000000</td>\n",
       "      <td>0.000000</td>\n",
       "      <td>0.000000</td>\n",
       "      <td>0.000000</td>\n",
       "      <td>0.0</td>\n",
       "      <td>0.0</td>\n",
       "      <td>73.0</td>\n",
       "      <td>0.5</td>\n",
       "      <td>43.000000</td>\n",
       "      <td>2.4</td>\n",
       "      <td>64.0</td>\n",
       "      <td>0.999926</td>\n",
       "      <td>2.000000</td>\n",
       "    </tr>\n",
       "    <tr>\n",
       "      <th>1</th>\n",
       "      <td>1</td>\n",
       "      <td>132.000000</td>\n",
       "      <td>0.006380</td>\n",
       "      <td>0.000000</td>\n",
       "      <td>0.006380</td>\n",
       "      <td>0.003190</td>\n",
       "      <td>0.0</td>\n",
       "      <td>0.0</td>\n",
       "      <td>17.0</td>\n",
       "      <td>2.1</td>\n",
       "      <td>0.000000</td>\n",
       "      <td>10.4</td>\n",
       "      <td>130.0</td>\n",
       "      <td>0.000000</td>\n",
       "      <td>1.000000</td>\n",
       "    </tr>\n",
       "    <tr>\n",
       "      <th>2</th>\n",
       "      <td>2</td>\n",
       "      <td>133.000000</td>\n",
       "      <td>0.003322</td>\n",
       "      <td>0.000000</td>\n",
       "      <td>0.008306</td>\n",
       "      <td>0.003322</td>\n",
       "      <td>0.0</td>\n",
       "      <td>0.0</td>\n",
       "      <td>16.0</td>\n",
       "      <td>2.1</td>\n",
       "      <td>0.000000</td>\n",
       "      <td>13.4</td>\n",
       "      <td>130.0</td>\n",
       "      <td>0.000000</td>\n",
       "      <td>1.000000</td>\n",
       "    </tr>\n",
       "    <tr>\n",
       "      <th>3</th>\n",
       "      <td>3</td>\n",
       "      <td>134.000000</td>\n",
       "      <td>0.002561</td>\n",
       "      <td>0.000000</td>\n",
       "      <td>0.007742</td>\n",
       "      <td>0.002561</td>\n",
       "      <td>0.0</td>\n",
       "      <td>0.0</td>\n",
       "      <td>16.0</td>\n",
       "      <td>2.4</td>\n",
       "      <td>0.000000</td>\n",
       "      <td>23.0</td>\n",
       "      <td>117.0</td>\n",
       "      <td>1.000000</td>\n",
       "      <td>1.000000</td>\n",
       "    </tr>\n",
       "    <tr>\n",
       "      <th>4</th>\n",
       "      <td>4</td>\n",
       "      <td>131.948232</td>\n",
       "      <td>0.006515</td>\n",
       "      <td>0.000000</td>\n",
       "      <td>0.008143</td>\n",
       "      <td>0.000000</td>\n",
       "      <td>0.0</td>\n",
       "      <td>0.0</td>\n",
       "      <td>16.0</td>\n",
       "      <td>2.4</td>\n",
       "      <td>0.000000</td>\n",
       "      <td>19.9</td>\n",
       "      <td>117.0</td>\n",
       "      <td>1.000000</td>\n",
       "      <td>1.000000</td>\n",
       "    </tr>\n",
       "    <tr>\n",
       "      <th>...</th>\n",
       "      <td>...</td>\n",
       "      <td>...</td>\n",
       "      <td>...</td>\n",
       "      <td>...</td>\n",
       "      <td>...</td>\n",
       "      <td>...</td>\n",
       "      <td>...</td>\n",
       "      <td>...</td>\n",
       "      <td>...</td>\n",
       "      <td>...</td>\n",
       "      <td>...</td>\n",
       "      <td>...</td>\n",
       "      <td>...</td>\n",
       "      <td>...</td>\n",
       "      <td>...</td>\n",
       "    </tr>\n",
       "    <tr>\n",
       "      <th>2119</th>\n",
       "      <td>2121</td>\n",
       "      <td>140.000000</td>\n",
       "      <td>0.000000</td>\n",
       "      <td>0.961268</td>\n",
       "      <td>0.007426</td>\n",
       "      <td>0.000000</td>\n",
       "      <td>0.0</td>\n",
       "      <td>0.0</td>\n",
       "      <td>79.0</td>\n",
       "      <td>0.2</td>\n",
       "      <td>25.000000</td>\n",
       "      <td>7.2</td>\n",
       "      <td>40.0</td>\n",
       "      <td>0.000000</td>\n",
       "      <td>2.000000</td>\n",
       "    </tr>\n",
       "    <tr>\n",
       "      <th>2120</th>\n",
       "      <td>2122</td>\n",
       "      <td>140.000000</td>\n",
       "      <td>0.000775</td>\n",
       "      <td>0.000000</td>\n",
       "      <td>0.006979</td>\n",
       "      <td>0.000000</td>\n",
       "      <td>0.0</td>\n",
       "      <td>0.0</td>\n",
       "      <td>78.0</td>\n",
       "      <td>0.4</td>\n",
       "      <td>22.000000</td>\n",
       "      <td>7.1</td>\n",
       "      <td>66.0</td>\n",
       "      <td>1.000000</td>\n",
       "      <td>2.000000</td>\n",
       "    </tr>\n",
       "    <tr>\n",
       "      <th>2121</th>\n",
       "      <td>2123</td>\n",
       "      <td>140.000000</td>\n",
       "      <td>0.000980</td>\n",
       "      <td>0.000000</td>\n",
       "      <td>0.006863</td>\n",
       "      <td>0.000000</td>\n",
       "      <td>0.0</td>\n",
       "      <td>0.0</td>\n",
       "      <td>79.0</td>\n",
       "      <td>0.4</td>\n",
       "      <td>20.000000</td>\n",
       "      <td>6.1</td>\n",
       "      <td>67.0</td>\n",
       "      <td>1.000000</td>\n",
       "      <td>1.990464</td>\n",
       "    </tr>\n",
       "    <tr>\n",
       "      <th>2122</th>\n",
       "      <td>2124</td>\n",
       "      <td>140.000000</td>\n",
       "      <td>0.000679</td>\n",
       "      <td>0.000000</td>\n",
       "      <td>0.006110</td>\n",
       "      <td>0.000000</td>\n",
       "      <td>0.0</td>\n",
       "      <td>0.0</td>\n",
       "      <td>78.0</td>\n",
       "      <td>0.4</td>\n",
       "      <td>27.000000</td>\n",
       "      <td>7.0</td>\n",
       "      <td>66.0</td>\n",
       "      <td>1.000000</td>\n",
       "      <td>2.000000</td>\n",
       "    </tr>\n",
       "    <tr>\n",
       "      <th>2123</th>\n",
       "      <td>2125</td>\n",
       "      <td>142.000000</td>\n",
       "      <td>0.001616</td>\n",
       "      <td>-0.000188</td>\n",
       "      <td>0.008078</td>\n",
       "      <td>0.000000</td>\n",
       "      <td>0.0</td>\n",
       "      <td>0.0</td>\n",
       "      <td>74.0</td>\n",
       "      <td>0.4</td>\n",
       "      <td>35.857183</td>\n",
       "      <td>5.0</td>\n",
       "      <td>42.0</td>\n",
       "      <td>0.000000</td>\n",
       "      <td>1.000000</td>\n",
       "    </tr>\n",
       "  </tbody>\n",
       "</table>\n",
       "<p>2124 rows × 15 columns</p>\n",
       "</div>"
      ],
      "text/plain": [
       "      index          LB        AC        FM        UC        DL   DS   DP  \\\n",
       "0         0  120.000000  0.000000  0.000000  0.000000  0.000000  0.0  0.0   \n",
       "1         1  132.000000  0.006380  0.000000  0.006380  0.003190  0.0  0.0   \n",
       "2         2  133.000000  0.003322  0.000000  0.008306  0.003322  0.0  0.0   \n",
       "3         3  134.000000  0.002561  0.000000  0.007742  0.002561  0.0  0.0   \n",
       "4         4  131.948232  0.006515  0.000000  0.008143  0.000000  0.0  0.0   \n",
       "...     ...         ...       ...       ...       ...       ...  ...  ...   \n",
       "2119   2121  140.000000  0.000000  0.961268  0.007426  0.000000  0.0  0.0   \n",
       "2120   2122  140.000000  0.000775  0.000000  0.006979  0.000000  0.0  0.0   \n",
       "2121   2123  140.000000  0.000980  0.000000  0.006863  0.000000  0.0  0.0   \n",
       "2122   2124  140.000000  0.000679  0.000000  0.006110  0.000000  0.0  0.0   \n",
       "2123   2125  142.000000  0.001616 -0.000188  0.008078  0.000000  0.0  0.0   \n",
       "\n",
       "      ASTV  MSTV       ALTV  MLTV  Width  Tendency       NSP  \n",
       "0     73.0   0.5  43.000000   2.4   64.0  0.999926  2.000000  \n",
       "1     17.0   2.1   0.000000  10.4  130.0  0.000000  1.000000  \n",
       "2     16.0   2.1   0.000000  13.4  130.0  0.000000  1.000000  \n",
       "3     16.0   2.4   0.000000  23.0  117.0  1.000000  1.000000  \n",
       "4     16.0   2.4   0.000000  19.9  117.0  1.000000  1.000000  \n",
       "...    ...   ...        ...   ...    ...       ...       ...  \n",
       "2119  79.0   0.2  25.000000   7.2   40.0  0.000000  2.000000  \n",
       "2120  78.0   0.4  22.000000   7.1   66.0  1.000000  2.000000  \n",
       "2121  79.0   0.4  20.000000   6.1   67.0  1.000000  1.990464  \n",
       "2122  78.0   0.4  27.000000   7.0   66.0  1.000000  2.000000  \n",
       "2123  74.0   0.4  35.857183   5.0   42.0  0.000000  1.000000  \n",
       "\n",
       "[2124 rows x 15 columns]"
      ]
     },
     "execution_count": 84,
     "metadata": {},
     "output_type": "execute_result"
    }
   ],
   "source": [
    "data.reset_index()"
   ]
  },
  {
   "cell_type": "code",
   "execution_count": 83,
   "id": "8e617e9c",
   "metadata": {},
   "outputs": [],
   "source": [
    "data=data.drop_duplicates()"
   ]
  },
  {
   "cell_type": "code",
   "execution_count": 85,
   "id": "4e6f3baa",
   "metadata": {},
   "outputs": [
    {
     "data": {
      "text/plain": [
       "<AxesSubplot:>"
      ]
     },
     "execution_count": 85,
     "metadata": {},
     "output_type": "execute_result"
    },
    {
     "data": {
      "image/png": "[encoded data removed]",
      "text/plain": [
       "<Figure size 432x288 with 2 Axes>"
      ]
     },
     "metadata": {
      "needs_background": "light"
     },
     "output_type": "display_data"
    }
   ],
   "source": [
    "colours = ['orange', 'yellow']\n",
    "sns.heatmap(data.isnull(),cmap=colours)"
   ]
  },
  {
   "cell_type": "markdown",
   "id": "e71d0059-9bb1-4d5f-ba53-07c7f3a3cdaa",
   "metadata": {},
   "source": [
    "### Data Visualization"
   ]
  },
  {
   "cell_type": "code",
   "execution_count": 88,
   "id": "a008a77f-bc8b-48e1-9f36-9b165c6ebd40",
   "metadata": {},
   "outputs": [
    {
     "name": "stdout",
     "output_type": "stream",
     "text": [
      "whiskers [<matplotlib.lines.Line2D object at 0x00000258BAA95640>, <matplotlib.lines.Line2D object at 0x00000258BAA95A30>]\n",
      "caps [<matplotlib.lines.Line2D object at 0x00000258BAA95D60>, <matplotlib.lines.Line2D object at 0x00000258BAA9F130>]\n",
      "boxes [<matplotlib.lines.Line2D object at 0x00000258BAA952B0>]\n",
      "medians [<matplotlib.lines.Line2D object at 0x00000258BAA9F4C0>]\n",
      "fliers [<matplotlib.lines.Line2D object at 0x00000258BAA9F850>]\n",
      "means []\n"
     ]
    }
   ],
   "source": [
    "for i,j in box.items():\n",
    "  print(i,j)"
   ]
  },
  {
   "cell_type": "code",
   "execution_count": 89,
   "id": "eb78c102-dbae-4449-bd21-091ea6c8d5dc",
   "metadata": {},
   "outputs": [
    {
     "data": {
      "text/plain": [
       "[array([-0.01538462, -0.01538462, -0.01538462, -0.01539347, -0.01538462,\n",
       "        -0.01538462,  0.00944386,  0.00841515,  0.00834028,  0.01215805,\n",
       "         0.01000834,  0.01416431,  0.00963698,  0.00849858,  0.00829875,\n",
       "         0.01154401,  0.01538462,  0.03076923,  0.03062062,  0.03076923,\n",
       "         0.01385042,  0.01062802,  0.01362398,  0.01165803,  0.00933489,\n",
       "         0.01076716,  0.03076923,  0.01      ,  0.00920245,  0.00887574,\n",
       "         0.00876095,  0.00831601,  0.01089325,  0.01231527,  0.01144165,\n",
       "         0.00847458,  0.00921659,  0.0106383 ,  0.00824176,  0.00877193,\n",
       "         0.00944206,  0.01144984,  0.01415094,  0.01474202,  0.00824742,\n",
       "         0.0105042 ,  0.01259446,  0.0089251 ,  0.00862952,  0.00917431,\n",
       "         0.00896861,  0.00847458,  0.0087146 ,  0.00843882,  0.01224847,\n",
       "         0.01237345,  0.01263158,  0.01119403,  0.01352657,  0.00853242,\n",
       "         0.00829016,  0.00926843,  0.01034929,  0.00935829,  0.01227679,\n",
       "         0.01306413,  0.01179941,  0.01057579,  0.00865385,  0.0096238 ,\n",
       "         0.00834202,  0.01016636,  0.00890869,  0.00940681,  0.0094697 ,\n",
       "         0.00871249,  0.01468189,  0.01042654,  0.01131687,  0.01177856,\n",
       "         0.01029748,  0.00944384,  0.00825472,  0.00845411,  0.00915565,\n",
       "         0.00846433,  0.00880503,  0.01046338,  0.01360544,  0.0106383 ,\n",
       "         0.01303538,  0.01181102,  0.01183682,  0.01437372,  0.01340033,\n",
       "         0.01313869,  0.01045752,  0.00928793,  0.00847458,  0.00870827,\n",
       "         0.00840336,  0.00894877,  0.00870511,  0.00928793,  0.00904393,\n",
       "         0.00943396,  0.00956938,  0.01129235,  0.00892857,  0.00838323,\n",
       "         0.01089588,  0.01091703,  0.01268116,  0.01345362,  0.01008827,\n",
       "         0.00909091,  0.00829493,  0.00826446,  0.00916031,  0.00883392,\n",
       "         0.00977778,  0.00943396,  0.00986842,  0.01004016,  0.00869565])]"
      ]
     },
     "execution_count": 89,
     "metadata": {},
     "output_type": "execute_result"
    }
   ],
   "source": [
    "out=[]\n",
    "for item in box[\"fliers\"]:\n",
    "    out.append(item.get_ydata())\n",
    "\n",
    "out\n"
   ]
  },
  {
   "cell_type": "code",
   "execution_count": 154,
   "id": "c28f5b6b-4f1b-4842-a24f-6e21cf7255c3",
   "metadata": {},
   "outputs": [
    {
     "data": {
      "image/png": "[encoded data removed]",
      "text/plain": [
       "<Figure size 432x288 with 1 Axes>"
      ]
     },
     "metadata": {
      "needs_background": "light"
     },
     "output_type": "display_data"
    }
   ],
   "source": [
    "box=plt.boxplot(data)"
   ]
  },
  {
   "cell_type": "code",
   "execution_count": 90,
   "id": "b5550e6b-d149-487e-b255-f17a80505bdf",
   "metadata": {},
   "outputs": [
    {
     "data": {
      "text/plain": [
       "array([[<AxesSubplot:title={'center':'LB'}>,\n",
       "        <AxesSubplot:title={'center':'AC'}>,\n",
       "        <AxesSubplot:title={'center':'FM'}>,\n",
       "        <AxesSubplot:title={'center':'UC'}>],\n",
       "       [<AxesSubplot:title={'center':'DL'}>,\n",
       "        <AxesSubplot:title={'center':'DS'}>,\n",
       "        <AxesSubplot:title={'center':'DP'}>,\n",
       "        <AxesSubplot:title={'center':'ASTV'}>],\n",
       "       [<AxesSubplot:title={'center':'MSTV'}>,\n",
       "        <AxesSubplot:title={'center':'ALTV'}>,\n",
       "        <AxesSubplot:title={'center':'MLTV'}>,\n",
       "        <AxesSubplot:title={'center':'Width'}>],\n",
       "       [<AxesSubplot:title={'center':'Tendency'}>,\n",
       "        <AxesSubplot:title={'center':'NSP'}>, <AxesSubplot:>,\n",
       "        <AxesSubplot:>]], dtype=object)"
      ]
     },
     "execution_count": 90,
     "metadata": {},
     "output_type": "execute_result"
    },
    {
     "data": {
      "image/png": "[encoded data removed]",
      "text/plain": [
       "<Figure size 432x288 with 16 Axes>"
      ]
     },
     "metadata": {
      "needs_background": "light"
     },
     "output_type": "display_data"
    }
   ],
   "source": [
    "data.hist()"
   ]
  },
  {
   "cell_type": "code",
   "execution_count": 92,
   "id": "3c2578bf-05e6-45a3-8618-cb4800707c24",
   "metadata": {},
   "outputs": [
    {
     "data": {
      "text/plain": [
       "<AxesSubplot:ylabel='Width'>"
      ]
     },
     "execution_count": 92,
     "metadata": {},
     "output_type": "execute_result"
    },
    {
     "data": {
      "image/png": "[encoded data removed]",
      "text/plain": [
       "<Figure size 432x288 with 1 Axes>"
      ]
     },
     "metadata": {
      "needs_background": "light"
     },
     "output_type": "display_data"
    }
   ],
   "source": [
    "sns.stripplot(y='Width',data=data,jitter=True)"
   ]
  },
  {
   "cell_type": "code",
   "execution_count": 87,
   "id": "879f1be6",
   "metadata": {},
   "outputs": [
    {
     "data": {
      "image/png": "[encoded data removed]",
      "text/plain": [
       "<Figure size 432x288 with 1 Axes>"
      ]
     },
     "metadata": {
      "needs_background": "light"
     },
     "output_type": "display_data"
    }
   ],
   "source": [
    "#box=data.DL.plot(kind='box')\n",
    "box=plt.boxplot(data['DL'])"
   ]
  },
  {
   "cell_type": "code",
   "execution_count": 91,
   "id": "e2c6d0c4-09ca-4d25-bc0a-7c5a62f949c3",
   "metadata": {},
   "outputs": [
    {
     "data": {
      "text/plain": [
       "{'bodies': [<matplotlib.collections.PolyCollection at 0x258bb078160>],\n",
       " 'cmaxes': <matplotlib.collections.LineCollection at 0x258bb06afd0>,\n",
       " 'cmins': <matplotlib.collections.LineCollection at 0x258bb0786a0>,\n",
       " 'cbars': <matplotlib.collections.LineCollection at 0x258bb0789d0>}"
      ]
     },
     "execution_count": 91,
     "metadata": {},
     "output_type": "execute_result"
    },
    {
     "data": {
      "image/png": "[encoded data removed]",
      "text/plain": [
       "<Figure size 432x288 with 1 Axes>"
      ]
     },
     "metadata": {
      "needs_background": "light"
     },
     "output_type": "display_data"
    }
   ],
   "source": [
    "plt.violinplot(data['MSTV'])"
   ]
  },
  {
   "cell_type": "markdown",
   "id": "eb94fda3-a65c-40cc-9893-4c2f7fb35911",
   "metadata": {},
   "source": [
    "###  correlation between the variables"
   ]
  },
  {
   "cell_type": "code",
   "execution_count": 93,
   "id": "7a4254c0",
   "metadata": {},
   "outputs": [
    {
     "data": {
      "text/plain": [
       "<AxesSubplot:>"
      ]
     },
     "execution_count": 93,
     "metadata": {},
     "output_type": "execute_result"
    },
    {
     "data": {
      "image/png": "[encoded data removed]",
      "text/plain": [
       "<Figure size 432x288 with 2 Axes>"
      ]
     },
     "metadata": {
      "needs_background": "light"
     },
     "output_type": "display_data"
    }
   ],
   "source": [
    "sns.heatmap(data.corr(),annot=True)"
   ]
  },
  {
   "cell_type": "code",
   "execution_count": 94,
   "id": "6b94603e-22af-438c-9b88-7bd8be4d76fe",
   "metadata": {},
   "outputs": [
    {
     "data": {
      "text/html": [
       "<div>\n",
       "<style scoped>\n",
       "    .dataframe tbody tr th:only-of-type {\n",
       "        vertical-align: middle;\n",
       "    }\n",
       "\n",
       "    .dataframe tbody tr th {\n",
       "        vertical-align: top;\n",
       "    }\n",
       "\n",
       "    .dataframe thead th {\n",
       "        text-align: right;\n",
       "    }\n",
       "</style>\n",
       "<table border=\"1\" class=\"dataframe\">\n",
       "  <thead>\n",
       "    <tr style=\"text-align: right;\">\n",
       "      <th></th>\n",
       "      <th>LB</th>\n",
       "      <th>AC</th>\n",
       "      <th>FM</th>\n",
       "      <th>UC</th>\n",
       "      <th>DL</th>\n",
       "      <th>DS</th>\n",
       "      <th>DP</th>\n",
       "      <th>ASTV</th>\n",
       "      <th>MSTV</th>\n",
       "      <th>ALTV</th>\n",
       "      <th>MLTV</th>\n",
       "      <th>Width</th>\n",
       "      <th>Tendency</th>\n",
       "      <th>NSP</th>\n",
       "    </tr>\n",
       "  </thead>\n",
       "  <tbody>\n",
       "    <tr>\n",
       "      <th>LB</th>\n",
       "      <td>1.000000</td>\n",
       "      <td>-0.064452</td>\n",
       "      <td>0.018810</td>\n",
       "      <td>-0.167012</td>\n",
       "      <td>-0.126981</td>\n",
       "      <td>-0.005439</td>\n",
       "      <td>-0.047726</td>\n",
       "      <td>0.242435</td>\n",
       "      <td>-0.170134</td>\n",
       "      <td>0.210955</td>\n",
       "      <td>-0.003225</td>\n",
       "      <td>-0.118375</td>\n",
       "      <td>0.237112</td>\n",
       "      <td>0.132008</td>\n",
       "    </tr>\n",
       "    <tr>\n",
       "      <th>AC</th>\n",
       "      <td>-0.064452</td>\n",
       "      <td>1.000000</td>\n",
       "      <td>0.009407</td>\n",
       "      <td>0.071700</td>\n",
       "      <td>-0.093641</td>\n",
       "      <td>-0.033632</td>\n",
       "      <td>-0.084644</td>\n",
       "      <td>-0.231725</td>\n",
       "      <td>0.134423</td>\n",
       "      <td>-0.271554</td>\n",
       "      <td>-0.106308</td>\n",
       "      <td>0.238422</td>\n",
       "      <td>0.032399</td>\n",
       "      <td>-0.317113</td>\n",
       "    </tr>\n",
       "    <tr>\n",
       "      <th>FM</th>\n",
       "      <td>0.018810</td>\n",
       "      <td>0.009407</td>\n",
       "      <td>1.000000</td>\n",
       "      <td>-0.053386</td>\n",
       "      <td>0.009641</td>\n",
       "      <td>0.029899</td>\n",
       "      <td>0.121259</td>\n",
       "      <td>-0.032838</td>\n",
       "      <td>0.017061</td>\n",
       "      <td>-0.012005</td>\n",
       "      <td>-0.006157</td>\n",
       "      <td>0.097133</td>\n",
       "      <td>-0.018410</td>\n",
       "      <td>0.073997</td>\n",
       "    </tr>\n",
       "    <tr>\n",
       "      <th>UC</th>\n",
       "      <td>-0.167012</td>\n",
       "      <td>0.071700</td>\n",
       "      <td>-0.053386</td>\n",
       "      <td>1.000000</td>\n",
       "      <td>0.189737</td>\n",
       "      <td>-0.006957</td>\n",
       "      <td>0.070504</td>\n",
       "      <td>-0.182379</td>\n",
       "      <td>0.189685</td>\n",
       "      <td>-0.227881</td>\n",
       "      <td>-0.048862</td>\n",
       "      <td>0.106787</td>\n",
       "      <td>-0.067098</td>\n",
       "      <td>-0.185953</td>\n",
       "    </tr>\n",
       "    <tr>\n",
       "      <th>DL</th>\n",
       "      <td>-0.126981</td>\n",
       "      <td>-0.093641</td>\n",
       "      <td>0.009641</td>\n",
       "      <td>0.189737</td>\n",
       "      <td>1.000000</td>\n",
       "      <td>0.058625</td>\n",
       "      <td>0.145338</td>\n",
       "      <td>-0.069907</td>\n",
       "      <td>0.410216</td>\n",
       "      <td>-0.187275</td>\n",
       "      <td>-0.165494</td>\n",
       "      <td>0.409793</td>\n",
       "      <td>-0.023838</td>\n",
       "      <td>0.025179</td>\n",
       "    </tr>\n",
       "    <tr>\n",
       "      <th>DS</th>\n",
       "      <td>-0.005439</td>\n",
       "      <td>-0.033632</td>\n",
       "      <td>0.029899</td>\n",
       "      <td>-0.006957</td>\n",
       "      <td>0.058625</td>\n",
       "      <td>1.000000</td>\n",
       "      <td>0.004282</td>\n",
       "      <td>0.008441</td>\n",
       "      <td>0.016165</td>\n",
       "      <td>-0.004406</td>\n",
       "      <td>0.034366</td>\n",
       "      <td>0.040831</td>\n",
       "      <td>-0.015408</td>\n",
       "      <td>0.065399</td>\n",
       "    </tr>\n",
       "    <tr>\n",
       "      <th>DP</th>\n",
       "      <td>-0.047726</td>\n",
       "      <td>-0.084644</td>\n",
       "      <td>0.121259</td>\n",
       "      <td>0.070504</td>\n",
       "      <td>0.145338</td>\n",
       "      <td>0.004282</td>\n",
       "      <td>1.000000</td>\n",
       "      <td>0.038076</td>\n",
       "      <td>0.119911</td>\n",
       "      <td>-0.077865</td>\n",
       "      <td>-0.113993</td>\n",
       "      <td>0.175240</td>\n",
       "      <td>-0.130510</td>\n",
       "      <td>0.294416</td>\n",
       "    </tr>\n",
       "    <tr>\n",
       "      <th>ASTV</th>\n",
       "      <td>0.242435</td>\n",
       "      <td>-0.231725</td>\n",
       "      <td>-0.032838</td>\n",
       "      <td>-0.182379</td>\n",
       "      <td>-0.069907</td>\n",
       "      <td>0.008441</td>\n",
       "      <td>0.038076</td>\n",
       "      <td>1.000000</td>\n",
       "      <td>-0.293820</td>\n",
       "      <td>0.357310</td>\n",
       "      <td>-0.219922</td>\n",
       "      <td>-0.208439</td>\n",
       "      <td>-0.011367</td>\n",
       "      <td>0.422515</td>\n",
       "    </tr>\n",
       "    <tr>\n",
       "      <th>MSTV</th>\n",
       "      <td>-0.170134</td>\n",
       "      <td>0.134423</td>\n",
       "      <td>0.017061</td>\n",
       "      <td>0.189685</td>\n",
       "      <td>0.410216</td>\n",
       "      <td>0.016165</td>\n",
       "      <td>0.119911</td>\n",
       "      <td>-0.293820</td>\n",
       "      <td>1.000000</td>\n",
       "      <td>-0.291979</td>\n",
       "      <td>0.028807</td>\n",
       "      <td>0.435563</td>\n",
       "      <td>-0.036849</td>\n",
       "      <td>-0.095143</td>\n",
       "    </tr>\n",
       "    <tr>\n",
       "      <th>ALTV</th>\n",
       "      <td>0.210955</td>\n",
       "      <td>-0.271554</td>\n",
       "      <td>-0.012005</td>\n",
       "      <td>-0.227881</td>\n",
       "      <td>-0.187275</td>\n",
       "      <td>-0.004406</td>\n",
       "      <td>-0.077865</td>\n",
       "      <td>0.357310</td>\n",
       "      <td>-0.291979</td>\n",
       "      <td>1.000000</td>\n",
       "      <td>-0.107475</td>\n",
       "      <td>-0.346960</td>\n",
       "      <td>0.036552</td>\n",
       "      <td>0.365708</td>\n",
       "    </tr>\n",
       "    <tr>\n",
       "      <th>MLTV</th>\n",
       "      <td>-0.003225</td>\n",
       "      <td>-0.106308</td>\n",
       "      <td>-0.006157</td>\n",
       "      <td>-0.048862</td>\n",
       "      <td>-0.165494</td>\n",
       "      <td>0.034366</td>\n",
       "      <td>-0.113993</td>\n",
       "      <td>-0.219922</td>\n",
       "      <td>0.028807</td>\n",
       "      <td>-0.107475</td>\n",
       "      <td>1.000000</td>\n",
       "      <td>0.059031</td>\n",
       "      <td>0.116672</td>\n",
       "      <td>-0.113445</td>\n",
       "    </tr>\n",
       "    <tr>\n",
       "      <th>Width</th>\n",
       "      <td>-0.118375</td>\n",
       "      <td>0.238422</td>\n",
       "      <td>0.097133</td>\n",
       "      <td>0.106787</td>\n",
       "      <td>0.409793</td>\n",
       "      <td>0.040831</td>\n",
       "      <td>0.175240</td>\n",
       "      <td>-0.208439</td>\n",
       "      <td>0.435563</td>\n",
       "      <td>-0.346960</td>\n",
       "      <td>0.059031</td>\n",
       "      <td>1.000000</td>\n",
       "      <td>0.081025</td>\n",
       "      <td>-0.067799</td>\n",
       "    </tr>\n",
       "    <tr>\n",
       "      <th>Tendency</th>\n",
       "      <td>0.237112</td>\n",
       "      <td>0.032399</td>\n",
       "      <td>-0.018410</td>\n",
       "      <td>-0.067098</td>\n",
       "      <td>-0.023838</td>\n",
       "      <td>-0.015408</td>\n",
       "      <td>-0.130510</td>\n",
       "      <td>-0.011367</td>\n",
       "      <td>-0.036849</td>\n",
       "      <td>0.036552</td>\n",
       "      <td>0.116672</td>\n",
       "      <td>0.081025</td>\n",
       "      <td>1.000000</td>\n",
       "      <td>-0.106481</td>\n",
       "    </tr>\n",
       "    <tr>\n",
       "      <th>NSP</th>\n",
       "      <td>0.132008</td>\n",
       "      <td>-0.317113</td>\n",
       "      <td>0.073997</td>\n",
       "      <td>-0.185953</td>\n",
       "      <td>0.025179</td>\n",
       "      <td>0.065399</td>\n",
       "      <td>0.294416</td>\n",
       "      <td>0.422515</td>\n",
       "      <td>-0.095143</td>\n",
       "      <td>0.365708</td>\n",
       "      <td>-0.113445</td>\n",
       "      <td>-0.067799</td>\n",
       "      <td>-0.106481</td>\n",
       "      <td>1.000000</td>\n",
       "    </tr>\n",
       "  </tbody>\n",
       "</table>\n",
       "</div>"
      ],
      "text/plain": [
       "                LB        AC        FM        UC        DL        DS  \\\n",
       "LB        1.000000 -0.064452  0.018810 -0.167012 -0.126981 -0.005439   \n",
       "AC       -0.064452  1.000000  0.009407  0.071700 -0.093641 -0.033632   \n",
       "FM        0.018810  0.009407  1.000000 -0.053386  0.009641  0.029899   \n",
       "UC       -0.167012  0.071700 -0.053386  1.000000  0.189737 -0.006957   \n",
       "DL       -0.126981 -0.093641  0.009641  0.189737  1.000000  0.058625   \n",
       "DS       -0.005439 -0.033632  0.029899 -0.006957  0.058625  1.000000   \n",
       "DP       -0.047726 -0.084644  0.121259  0.070504  0.145338  0.004282   \n",
       "ASTV      0.242435 -0.231725 -0.032838 -0.182379 -0.069907  0.008441   \n",
       "MSTV     -0.170134  0.134423  0.017061  0.189685  0.410216  0.016165   \n",
       "ALTV      0.210955 -0.271554 -0.012005 -0.227881 -0.187275 -0.004406   \n",
       "MLTV     -0.003225 -0.106308 -0.006157 -0.048862 -0.165494  0.034366   \n",
       "Width    -0.118375  0.238422  0.097133  0.106787  0.409793  0.040831   \n",
       "Tendency  0.237112  0.032399 -0.018410 -0.067098 -0.023838 -0.015408   \n",
       "NSP       0.132008 -0.317113  0.073997 -0.185953  0.025179  0.065399   \n",
       "\n",
       "                DP      ASTV      MSTV      ALTV      MLTV     Width  \\\n",
       "LB       -0.047726  0.242435 -0.170134  0.210955 -0.003225 -0.118375   \n",
       "AC       -0.084644 -0.231725  0.134423 -0.271554 -0.106308  0.238422   \n",
       "FM        0.121259 -0.032838  0.017061 -0.012005 -0.006157  0.097133   \n",
       "UC        0.070504 -0.182379  0.189685 -0.227881 -0.048862  0.106787   \n",
       "DL        0.145338 -0.069907  0.410216 -0.187275 -0.165494  0.409793   \n",
       "DS        0.004282  0.008441  0.016165 -0.004406  0.034366  0.040831   \n",
       "DP        1.000000  0.038076  0.119911 -0.077865 -0.113993  0.175240   \n",
       "ASTV      0.038076  1.000000 -0.293820  0.357310 -0.219922 -0.208439   \n",
       "MSTV      0.119911 -0.293820  1.000000 -0.291979  0.028807  0.435563   \n",
       "ALTV     -0.077865  0.357310 -0.291979  1.000000 -0.107475 -0.346960   \n",
       "MLTV     -0.113993 -0.219922  0.028807 -0.107475  1.000000  0.059031   \n",
       "Width     0.175240 -0.208439  0.435563 -0.346960  0.059031  1.000000   \n",
       "Tendency -0.130510 -0.011367 -0.036849  0.036552  0.116672  0.081025   \n",
       "NSP       0.294416  0.422515 -0.095143  0.365708 -0.113445 -0.067799   \n",
       "\n",
       "          Tendency       NSP  \n",
       "LB        0.237112  0.132008  \n",
       "AC        0.032399 -0.317113  \n",
       "FM       -0.018410  0.073997  \n",
       "UC       -0.067098 -0.185953  \n",
       "DL       -0.023838  0.025179  \n",
       "DS       -0.015408  0.065399  \n",
       "DP       -0.130510  0.294416  \n",
       "ASTV     -0.011367  0.422515  \n",
       "MSTV     -0.036849 -0.095143  \n",
       "ALTV      0.036552  0.365708  \n",
       "MLTV      0.116672 -0.113445  \n",
       "Width     0.081025 -0.067799  \n",
       "Tendency  1.000000 -0.106481  \n",
       "NSP      -0.106481  1.000000  "
      ]
     },
     "execution_count": 94,
     "metadata": {},
     "output_type": "execute_result"
    }
   ],
   "source": [
    "data.corr()"
   ]
  },
  {
   "cell_type": "markdown",
   "id": "26b368c8-1243-4b93-88e7-2b16c1891c7f",
   "metadata": {},
   "source": [
    "###  Filling null values"
   ]
  },
  {
   "cell_type": "code",
   "execution_count": 95,
   "id": "fb12c06b",
   "metadata": {},
   "outputs": [
    {
     "data": {
      "text/plain": [
       "LB          21\n",
       "AC          20\n",
       "FM           0\n",
       "UC           0\n",
       "DL           0\n",
       "DS          21\n",
       "DP          21\n",
       "ASTV         0\n",
       "MSTV         0\n",
       "ALTV         0\n",
       "MLTV        21\n",
       "Width       21\n",
       "Tendency    21\n",
       "NSP         21\n",
       "dtype: int64"
      ]
     },
     "execution_count": 95,
     "metadata": {},
     "output_type": "execute_result"
    }
   ],
   "source": [
    "data.isnull().sum()"
   ]
  },
  {
   "cell_type": "code",
   "execution_count": 96,
   "id": "8e75310d",
   "metadata": {},
   "outputs": [
    {
     "name": "stdout",
     "output_type": "stream",
     "text": [
      "133.3420230800519\n"
     ]
    }
   ],
   "source": [
    "mean_lb=data['LB'].mean()\n",
    "print(mean_lb)\n",
    "data['LB']=data['LB'].fillna(mean_lb)"
   ]
  },
  {
   "cell_type": "code",
   "execution_count": 97,
   "id": "41104fa3",
   "metadata": {},
   "outputs": [
    {
     "name": "stdout",
     "output_type": "stream",
     "text": [
      "0.003219796197929136\n"
     ]
    }
   ],
   "source": [
    "mean_ac=data['AC'].mean()\n",
    "print(mean_ac)\n",
    "data['AC']=data['AC'].fillna(mean_ac)"
   ]
  },
  {
   "cell_type": "code",
   "execution_count": 98,
   "id": "3c637f20",
   "metadata": {},
   "outputs": [
    {
     "name": "stdout",
     "output_type": "stream",
     "text": [
      "2.5113696050975494e-06\n"
     ]
    }
   ],
   "source": [
    "mean_ds=data['DS'].mean()\n",
    "print(mean_ds)\n",
    "data['DS']=data['DS'].fillna(mean_ds)"
   ]
  },
  {
   "cell_type": "code",
   "execution_count": 99,
   "id": "cdd7a93b",
   "metadata": {},
   "outputs": [
    {
     "name": "stdout",
     "output_type": "stream",
     "text": [
      "0.00017531778446317663\n"
     ]
    }
   ],
   "source": [
    "mean_dp=data['DP'].mean()\n",
    "print(mean_dp)\n",
    "data['DP']=data['DP'].fillna(mean_dp)"
   ]
  },
  {
   "cell_type": "code",
   "execution_count": 100,
   "id": "fc6fae83",
   "metadata": {},
   "outputs": [
    {
     "name": "stdout",
     "output_type": "stream",
     "text": [
      "8.280545902980512\n"
     ]
    }
   ],
   "source": [
    "mean_mltv=data['MLTV'].mean()\n",
    "print(mean_mltv)\n",
    "data['MLTV']=data['MLTV'].fillna(mean_mltv)"
   ]
  },
  {
   "cell_type": "code",
   "execution_count": 101,
   "id": "265add0f",
   "metadata": {},
   "outputs": [
    {
     "name": "stdout",
     "output_type": "stream",
     "text": [
      "70.4610524679605\n"
     ]
    }
   ],
   "source": [
    "mean_width=data['Width'].mean()\n",
    "print(mean_width)\n",
    "data['Width']=data['Width'].fillna(mean_width)"
   ]
  },
  {
   "cell_type": "code",
   "execution_count": 102,
   "id": "4cd3f6ba",
   "metadata": {},
   "outputs": [
    {
     "name": "stdout",
     "output_type": "stream",
     "text": [
      "0.31667228014592036\n"
     ]
    }
   ],
   "source": [
    "mean_tendency=data['Tendency'].mean()\n",
    "print(mean_tendency)\n",
    "data['Tendency']=data['Tendency'].fillna(mean_tendency)"
   ]
  },
  {
   "cell_type": "code",
   "execution_count": 103,
   "id": "a2d415d0",
   "metadata": {},
   "outputs": [
    {
     "name": "stdout",
     "output_type": "stream",
     "text": [
      "1.304796768239931\n"
     ]
    }
   ],
   "source": [
    "mean_nsp=data['NSP'].mean()\n",
    "print(mean_nsp)\n",
    "data['NSP']=data['NSP'].fillna(mean_nsp)"
   ]
  },
  {
   "cell_type": "code",
   "execution_count": null,
   "id": "f9646606",
   "metadata": {},
   "outputs": [],
   "source": [
    "from sklearn.preprocessing import MinMaxScaler, StandardScaler"
   ]
  },
  {
   "cell_type": "code",
   "execution_count": 151,
   "id": "9bbdea1d-d086-4b64-bec0-3ed5af4a46af",
   "metadata": {},
   "outputs": [
    {
     "data": {
      "text/plain": [
       "array([[0.48148148, 0.41242985, 0.2731697 , ..., 0.78145695, 0.49580822,\n",
       "        0.        ],\n",
       "       [0.5       , 0.21849504, 0.2731697 , ..., 0.78145695, 0.49580822,\n",
       "        0.        ],\n",
       "       [0.48052281, 0.42099791, 0.2731697 , ..., 0.69536424, 0.9883586 ,\n",
       "        0.        ],\n",
       "       ...,\n",
       "       [0.62962963, 0.00775479, 0.2731697 , ..., 0.05960265, 0.9883586 ,\n",
       "        0.        ],\n",
       "       [0.62962963, 0.00775479, 0.2731697 , ..., 0.09271523, 0.9883586 ,\n",
       "        0.        ],\n",
       "       [0.62962963, 0.00775479, 0.2731697 , ..., 0.12582781, 0.49580822,\n",
       "        0.        ]])"
      ]
     },
     "execution_count": 151,
     "metadata": {},
     "output_type": "execute_result"
    }
   ],
   "source": [
    "# Min-Max Scaling\n",
    "minmax_scaler = MinMaxScaler()\n",
    "scaled_data_minmax = minmax_scaler.fit_transform(data)\n",
    "scaled_data_minmax"
   ]
  },
  {
   "cell_type": "code",
   "execution_count": 150,
   "id": "9eca4ae6",
   "metadata": {},
   "outputs": [
    {
     "data": {
      "text/plain": [
       "array([[-0.00439217,  0.58233013, -0.44764956, ...,  2.01027868,\n",
       "        -0.58766308,  0.        ],\n",
       "       [ 0.10335851, -0.21219596, -0.44764956, ...,  2.01027868,\n",
       "        -0.58766308,  0.        ],\n",
       "       [-0.00997025,  0.61743238, -0.44764956, ...,  1.59796682,\n",
       "         1.13215861,  0.        ],\n",
       "       ...,\n",
       "       [ 0.85761332, -1.07557181, -0.44764956, ..., -1.44679774,\n",
       "         1.13215861,  0.        ],\n",
       "       [ 0.85761332, -1.07557181, -0.44764956, ..., -1.28821626,\n",
       "         1.13215861,  0.        ],\n",
       "       [ 0.85761332, -1.07557181, -0.44764956, ..., -1.12963477,\n",
       "        -0.58766308,  0.        ]])"
      ]
     },
     "execution_count": 150,
     "metadata": {},
     "output_type": "execute_result"
    }
   ],
   "source": [
    "# Standard Scaling\n",
    "standard_scaler = StandardScaler()\n",
    "scaled_data_standard = standard_scaler.fit_transform(data)\n",
    "scaled_data_standard"
   ]
  },
  {
   "cell_type": "markdown",
   "id": "68b83682-3650-4d13-9b94-07ae88a3419e",
   "metadata": {},
   "source": [
    "###  Outliers  Treatment"
   ]
  },
  {
   "cell_type": "code",
   "execution_count": 104,
   "id": "c9560211-50ae-42b7-a46d-4618ad658c5e",
   "metadata": {},
   "outputs": [
    {
     "data": {
      "text/plain": [
       "{'whiskers': [<matplotlib.lines.Line2D at 0x258ba9a6790>,\n",
       "  <matplotlib.lines.Line2D at 0x258ba921040>],\n",
       " 'caps': [<matplotlib.lines.Line2D at 0x258ba9a6d90>,\n",
       "  <matplotlib.lines.Line2D at 0x258ba9b6160>],\n",
       " 'boxes': [<matplotlib.lines.Line2D at 0x258ba9a6400>],\n",
       " 'medians': [<matplotlib.lines.Line2D at 0x258ba9b64f0>],\n",
       " 'fliers': [<matplotlib.lines.Line2D at 0x258ba9b6880>],\n",
       " 'means': []}"
      ]
     },
     "execution_count": 104,
     "metadata": {},
     "output_type": "execute_result"
    },
    {
     "data": {
      "image/png": "[encoded data removed]",
      "text/plain": [
       "<Figure size 432x288 with 1 Axes>"
      ]
     },
     "metadata": {
      "needs_background": "light"
     },
     "output_type": "display_data"
    }
   ],
   "source": [
    "plt.boxplot(x='DL',data=data)"
   ]
  },
  {
   "cell_type": "code",
   "execution_count": 105,
   "id": "3e959d79",
   "metadata": {},
   "outputs": [],
   "source": [
    "# Detect and treat outliers (if necessary)\n",
    "# Using IQR method (adjust thresholds as needed)\n",
    "Q1 = data['DL'].quantile(0.25)\n",
    "Q3 = data['DL'].quantile(0.75)\n",
    "IQR = Q3 - Q1\n",
    "lower_bound = Q1 - 1.5 * IQR\n",
    "upper_bound = Q3 + 1.5 * IQR\n",
    "data = data[(data['DL'] >= lower_bound) & (data['DL'] <= upper_bound)]"
   ]
  },
  {
   "cell_type": "code",
   "execution_count": 106,
   "id": "b5e5c7f9-1e50-4e5f-940e-0265fd576edb",
   "metadata": {},
   "outputs": [
    {
     "data": {
      "text/plain": [
       "{'whiskers': [<matplotlib.lines.Line2D at 0x258bc1fb130>,\n",
       "  <matplotlib.lines.Line2D at 0x258bc1fb4c0>],\n",
       " 'caps': [<matplotlib.lines.Line2D at 0x258bc1fb850>,\n",
       "  <matplotlib.lines.Line2D at 0x258bc1fbbe0>],\n",
       " 'boxes': [<matplotlib.lines.Line2D at 0x258bc1eed60>],\n",
       " 'medians': [<matplotlib.lines.Line2D at 0x258bc1fbeb0>],\n",
       " 'fliers': [<matplotlib.lines.Line2D at 0x258bc206280>],\n",
       " 'means': []}"
      ]
     },
     "execution_count": 106,
     "metadata": {},
     "output_type": "execute_result"
    },
    {
     "data": {
      "image/png": "[encoded data removed]",
      "text/plain": [
       "<Figure size 432x288 with 1 Axes>"
      ]
     },
     "metadata": {
      "needs_background": "light"
     },
     "output_type": "display_data"
    }
   ],
   "source": [
    "plt.boxplot(x='DL',data=data)"
   ]
  },
  {
   "cell_type": "code",
   "execution_count": 107,
   "id": "58b8e7f4-a161-43db-aeee-976b39919e81",
   "metadata": {},
   "outputs": [
    {
     "data": {
      "text/plain": [
       "{'whiskers': [<matplotlib.lines.Line2D at 0x258bc260850>,\n",
       "  <matplotlib.lines.Line2D at 0x258bc260be0>],\n",
       " 'caps': [<matplotlib.lines.Line2D at 0x258bc260f70>,\n",
       "  <matplotlib.lines.Line2D at 0x258bc26d340>],\n",
       " 'boxes': [<matplotlib.lines.Line2D at 0x258bc2605e0>],\n",
       " 'medians': [<matplotlib.lines.Line2D at 0x258bc26d6d0>],\n",
       " 'fliers': [<matplotlib.lines.Line2D at 0x258bc26da60>],\n",
       " 'means': []}"
      ]
     },
     "execution_count": 107,
     "metadata": {},
     "output_type": "execute_result"
    },
    {
     "data": {
      "image/png": "[encoded data removed]",
      "text/plain": [
       "<Figure size 432x288 with 1 Axes>"
      ]
     },
     "metadata": {
      "needs_background": "light"
     },
     "output_type": "display_data"
    }
   ],
   "source": [
    "plt.boxplot(x='ALTV',data=data)"
   ]
  },
  {
   "cell_type": "code",
   "execution_count": 108,
   "id": "2f2260cd-6c80-41eb-b9be-bd6e608ac641",
   "metadata": {},
   "outputs": [],
   "source": [
    "Q1 = data['ALTV'].quantile(0.25)\n",
    "Q3 = data['ALTV'].quantile(0.75)\n",
    "IQR = Q3 - Q1\n",
    "lower_bound = Q1 - 1.5 * IQR\n",
    "upper_bound = Q3 + 1.5 * IQR\n",
    "data = data[(data['ALTV'] >= lower_bound) & (data['ALTV'] <= upper_bound)]"
   ]
  },
  {
   "cell_type": "code",
   "execution_count": 109,
   "id": "aa550b4d-265b-46fb-ba90-e2ece7ba4e24",
   "metadata": {},
   "outputs": [
    {
     "data": {
      "text/plain": [
       "{'whiskers': [<matplotlib.lines.Line2D at 0x258bc2ce340>,\n",
       "  <matplotlib.lines.Line2D at 0x258bc2ce6d0>],\n",
       " 'caps': [<matplotlib.lines.Line2D at 0x258bc2cea60>,\n",
       "  <matplotlib.lines.Line2D at 0x258bc2cedf0>],\n",
       " 'boxes': [<matplotlib.lines.Line2D at 0x258bc2bef70>],\n",
       " 'medians': [<matplotlib.lines.Line2D at 0x258bc2db1c0>],\n",
       " 'fliers': [<matplotlib.lines.Line2D at 0x258bc2db550>],\n",
       " 'means': []}"
      ]
     },
     "execution_count": 109,
     "metadata": {},
     "output_type": "execute_result"
    },
    {
     "data": {
      "image/png": "[encoded data removed]",
      "text/plain": [
       "<Figure size 432x288 with 1 Axes>"
      ]
     },
     "metadata": {
      "needs_background": "light"
     },
     "output_type": "display_data"
    }
   ],
   "source": [
    "plt.boxplot(x='ALTV',data=data)"
   ]
  },
  {
   "cell_type": "code",
   "execution_count": 110,
   "id": "b6fee777-b7b1-4f39-b976-53b90bbbddee",
   "metadata": {},
   "outputs": [
    {
     "data": {
      "text/plain": [
       "{'whiskers': [<matplotlib.lines.Line2D at 0x258bc3347f0>,\n",
       "  <matplotlib.lines.Line2D at 0x258bc334b80>],\n",
       " 'caps': [<matplotlib.lines.Line2D at 0x258bc334f10>,\n",
       "  <matplotlib.lines.Line2D at 0x258bc33f2e0>],\n",
       " 'boxes': [<matplotlib.lines.Line2D at 0x258bc334460>],\n",
       " 'medians': [<matplotlib.lines.Line2D at 0x258bc33f670>],\n",
       " 'fliers': [<matplotlib.lines.Line2D at 0x258bc33fa30>],\n",
       " 'means': []}"
      ]
     },
     "execution_count": 110,
     "metadata": {},
     "output_type": "execute_result"
    },
    {
     "data": {
      "image/png": "[encoded data removed]",
      "text/plain": [
       "<Figure size 432x288 with 1 Axes>"
      ]
     },
     "metadata": {
      "needs_background": "light"
     },
     "output_type": "display_data"
    }
   ],
   "source": [
    "plt.boxplot(x='LB',data=data)"
   ]
  },
  {
   "cell_type": "code",
   "execution_count": 111,
   "id": "f10243cb-2169-4ef7-892b-10f4154fe2d1",
   "metadata": {},
   "outputs": [
    {
     "data": {
      "text/plain": [
       "LB          0\n",
       "AC          0\n",
       "FM          0\n",
       "UC          0\n",
       "DL          0\n",
       "DS          0\n",
       "DP          0\n",
       "ASTV        0\n",
       "MSTV        0\n",
       "ALTV        0\n",
       "MLTV        0\n",
       "Width       0\n",
       "Tendency    0\n",
       "NSP         0\n",
       "dtype: int64"
      ]
     },
     "execution_count": 111,
     "metadata": {},
     "output_type": "execute_result"
    }
   ],
   "source": [
    "data.isnull().sum()"
   ]
  },
  {
   "cell_type": "code",
   "execution_count": 112,
   "id": "88c44173-f693-40a8-9340-051b12f56335",
   "metadata": {},
   "outputs": [],
   "source": [
    "Q1 = data['LB'].quantile(0.25)\n",
    "Q3 = data['LB'].quantile(0.75)\n",
    "IQR = Q3 - Q1\n",
    "lower_bound = Q1 - 1.5 * IQR\n",
    "upper_bound = Q3 + 1.5 * IQR\n",
    "data = data[(data['LB'] >= lower_bound) & (data['LB'] <= upper_bound)]"
   ]
  },
  {
   "cell_type": "code",
   "execution_count": 113,
   "id": "ca0eaf65-e812-4163-9a62-d52e2ec8f650",
   "metadata": {},
   "outputs": [
    {
     "data": {
      "text/plain": [
       "{'whiskers': [<matplotlib.lines.Line2D at 0x258bc3a48b0>,\n",
       "  <matplotlib.lines.Line2D at 0x258bc3a4c40>],\n",
       " 'caps': [<matplotlib.lines.Line2D at 0x258bc3a4fd0>,\n",
       "  <matplotlib.lines.Line2D at 0x258bc3b13a0>],\n",
       " 'boxes': [<matplotlib.lines.Line2D at 0x258bc3a4520>],\n",
       " 'medians': [<matplotlib.lines.Line2D at 0x258bc3b1730>],\n",
       " 'fliers': [<matplotlib.lines.Line2D at 0x258bc3b1ac0>],\n",
       " 'means': []}"
      ]
     },
     "execution_count": 113,
     "metadata": {},
     "output_type": "execute_result"
    },
    {
     "data": {
      "image/png": "[encoded data removed]",
      "text/plain": [
       "<Figure size 432x288 with 1 Axes>"
      ]
     },
     "metadata": {
      "needs_background": "light"
     },
     "output_type": "display_data"
    }
   ],
   "source": [
    "plt.boxplot(x='LB',data=data)"
   ]
  },
  {
   "cell_type": "code",
   "execution_count": 114,
   "id": "fa472468-9da6-47c7-8801-7998266bce08",
   "metadata": {},
   "outputs": [
    {
     "data": {
      "text/plain": [
       "{'whiskers': [<matplotlib.lines.Line2D at 0x258bc4115e0>,\n",
       "  <matplotlib.lines.Line2D at 0x258bc411970>],\n",
       " 'caps': [<matplotlib.lines.Line2D at 0x258bc411d00>,\n",
       "  <matplotlib.lines.Line2D at 0x258bc41a0d0>],\n",
       " 'boxes': [<matplotlib.lines.Line2D at 0x258bc411250>],\n",
       " 'medians': [<matplotlib.lines.Line2D at 0x258bc41a460>],\n",
       " 'fliers': [<matplotlib.lines.Line2D at 0x258bc41a790>],\n",
       " 'means': []}"
      ]
     },
     "execution_count": 114,
     "metadata": {},
     "output_type": "execute_result"
    },
    {
     "data": {
      "image/png": "[encoded data removed]",
      "text/plain": [
       "<Figure size 432x288 with 1 Axes>"
      ]
     },
     "metadata": {
      "needs_background": "light"
     },
     "output_type": "display_data"
    }
   ],
   "source": [
    "plt.boxplot(x='AC',data=data)"
   ]
  },
  {
   "cell_type": "code",
   "execution_count": 115,
   "id": "ed0836e1-03ce-48ed-8301-78fff094b46e",
   "metadata": {},
   "outputs": [],
   "source": [
    "Q1 = data['AC'].quantile(0.25)\n",
    "Q3 = data['AC'].quantile(0.75)\n",
    "IQR = Q3 - Q1\n",
    "lower_bound = Q1 - 1.5 * IQR\n",
    "upper_bound = Q3 + 1.5 * IQR\n",
    "data = data[(data['AC'] >= lower_bound) & (data['AC'] <= upper_bound)]"
   ]
  },
  {
   "cell_type": "code",
   "execution_count": 116,
   "id": "517f3020-e8ab-4736-8583-ad803dfa87b1",
   "metadata": {},
   "outputs": [
    {
     "data": {
      "text/plain": [
       "{'whiskers': [<matplotlib.lines.Line2D at 0x258bc4795e0>,\n",
       "  <matplotlib.lines.Line2D at 0x258bc479970>],\n",
       " 'caps': [<matplotlib.lines.Line2D at 0x258bc479d00>,\n",
       "  <matplotlib.lines.Line2D at 0x258bc4850d0>],\n",
       " 'boxes': [<matplotlib.lines.Line2D at 0x258bc4792b0>],\n",
       " 'medians': [<matplotlib.lines.Line2D at 0x258bc485460>],\n",
       " 'fliers': [<matplotlib.lines.Line2D at 0x258bc4857f0>],\n",
       " 'means': []}"
      ]
     },
     "execution_count": 116,
     "metadata": {},
     "output_type": "execute_result"
    },
    {
     "data": {
      "image/png": "[encoded data removed]",
      "text/plain": [
       "<Figure size 432x288 with 1 Axes>"
      ]
     },
     "metadata": {
      "needs_background": "light"
     },
     "output_type": "display_data"
    }
   ],
   "source": [
    "plt.boxplot(x='AC',data=data)"
   ]
  },
  {
   "cell_type": "code",
   "execution_count": 117,
   "id": "faf68cb4-b205-4e0e-ac5d-482f31adfbfe",
   "metadata": {},
   "outputs": [
    {
     "data": {
      "text/plain": [
       "{'whiskers': [<matplotlib.lines.Line2D at 0x258bc4e8580>,\n",
       "  <matplotlib.lines.Line2D at 0x258bc4e8910>],\n",
       " 'caps': [<matplotlib.lines.Line2D at 0x258bc4e8ca0>,\n",
       "  <matplotlib.lines.Line2D at 0x258bc4f2070>],\n",
       " 'boxes': [<matplotlib.lines.Line2D at 0x258bc4e81f0>],\n",
       " 'medians': [<matplotlib.lines.Line2D at 0x258bc4f2400>],\n",
       " 'fliers': [<matplotlib.lines.Line2D at 0x258bc4f2790>],\n",
       " 'means': []}"
      ]
     },
     "execution_count": 117,
     "metadata": {},
     "output_type": "execute_result"
    },
    {
     "data": {
      "image/png": "[encoded data removed]",
      "text/plain": [
       "<Figure size 432x288 with 1 Axes>"
      ]
     },
     "metadata": {
      "needs_background": "light"
     },
     "output_type": "display_data"
    }
   ],
   "source": [
    "plt.boxplot(x='FM',data=data)"
   ]
  },
  {
   "cell_type": "code",
   "execution_count": 118,
   "id": "26a7790b-4c4e-4ccd-93f1-d7720d2e63cd",
   "metadata": {},
   "outputs": [],
   "source": [
    "Q1 = data['FM'].quantile(0.25)\n",
    "Q3 = data['FM'].quantile(0.75)\n",
    "IQR = Q3 - Q1\n",
    "lower_bound = Q1 - 1.5 * IQR\n",
    "upper_bound = Q3 + 1.5 * IQR\n",
    "data = data[(data['FM'] >= lower_bound) & (data['FM'] <= upper_bound)]"
   ]
  },
  {
   "cell_type": "code",
   "execution_count": 119,
   "id": "a216a96f-30f1-4594-9fe0-3b95fb1f8a13",
   "metadata": {},
   "outputs": [
    {
     "data": {
      "text/plain": [
       "{'whiskers': [<matplotlib.lines.Line2D at 0x258bc550b80>,\n",
       "  <matplotlib.lines.Line2D at 0x258bc550f10>],\n",
       " 'caps': [<matplotlib.lines.Line2D at 0x258bc55b2e0>,\n",
       "  <matplotlib.lines.Line2D at 0x258bc55b670>],\n",
       " 'boxes': [<matplotlib.lines.Line2D at 0x258bc5507f0>],\n",
       " 'medians': [<matplotlib.lines.Line2D at 0x258bc55ba00>],\n",
       " 'fliers': [<matplotlib.lines.Line2D at 0x258bc55bd90>],\n",
       " 'means': []}"
      ]
     },
     "execution_count": 119,
     "metadata": {},
     "output_type": "execute_result"
    },
    {
     "data": {
      "image/png": "[encoded data removed]",
      "text/plain": [
       "<Figure size 432x288 with 1 Axes>"
      ]
     },
     "metadata": {
      "needs_background": "light"
     },
     "output_type": "display_data"
    }
   ],
   "source": [
    "plt.boxplot(x='FM',data=data)"
   ]
  },
  {
   "cell_type": "code",
   "execution_count": 120,
   "id": "b9ed6384-00ab-4464-84ee-0d72e3a86221",
   "metadata": {},
   "outputs": [
    {
     "data": {
      "text/plain": [
       "{'whiskers': [<matplotlib.lines.Line2D at 0x258bc5ba310>,\n",
       "  <matplotlib.lines.Line2D at 0x258bc5ba6d0>],\n",
       " 'caps': [<matplotlib.lines.Line2D at 0x258bc5baa60>,\n",
       "  <matplotlib.lines.Line2D at 0x258bc5badf0>],\n",
       " 'boxes': [<matplotlib.lines.Line2D at 0x258bc5adfa0>],\n",
       " 'medians': [<matplotlib.lines.Line2D at 0x258bc5c61c0>],\n",
       " 'fliers': [<matplotlib.lines.Line2D at 0x258bc5c6520>],\n",
       " 'means': []}"
      ]
     },
     "execution_count": 120,
     "metadata": {},
     "output_type": "execute_result"
    },
    {
     "data": {
      "image/png": "[encoded data removed]",
      "text/plain": [
       "<Figure size 432x288 with 1 Axes>"
      ]
     },
     "metadata": {
      "needs_background": "light"
     },
     "output_type": "display_data"
    }
   ],
   "source": [
    "plt.boxplot(x='UC',data=data)"
   ]
  },
  {
   "cell_type": "code",
   "execution_count": 121,
   "id": "0a4de998-445c-4bc1-ad14-a34490634313",
   "metadata": {},
   "outputs": [],
   "source": [
    "Q1 = data['UC'].quantile(0.25)\n",
    "Q3 = data['UC'].quantile(0.75)\n",
    "IQR = Q3 - Q1\n",
    "lower_bound = Q1 - 1.5 * IQR\n",
    "upper_bound = Q3 + 1.5 * IQR\n",
    "data = data[(data['UC'] >= lower_bound) & (data['UC'] <= upper_bound)]"
   ]
  },
  {
   "cell_type": "code",
   "execution_count": 122,
   "id": "06967428-88e0-4eb0-bd31-365bbb62aad6",
   "metadata": {},
   "outputs": [
    {
     "data": {
      "text/plain": [
       "{'whiskers': [<matplotlib.lines.Line2D at 0x258bc61d850>,\n",
       "  <matplotlib.lines.Line2D at 0x258bc61dbe0>],\n",
       " 'caps': [<matplotlib.lines.Line2D at 0x258bc61df70>,\n",
       "  <matplotlib.lines.Line2D at 0x258bc628340>],\n",
       " 'boxes': [<matplotlib.lines.Line2D at 0x258bc61d490>],\n",
       " 'medians': [<matplotlib.lines.Line2D at 0x258bc6286d0>],\n",
       " 'fliers': [<matplotlib.lines.Line2D at 0x258bc628a60>],\n",
       " 'means': []}"
      ]
     },
     "execution_count": 122,
     "metadata": {},
     "output_type": "execute_result"
    },
    {
     "data": {
      "image/png": "[encoded data removed]",
      "text/plain": [
       "<Figure size 432x288 with 1 Axes>"
      ]
     },
     "metadata": {
      "needs_background": "light"
     },
     "output_type": "display_data"
    }
   ],
   "source": [
    "plt.boxplot(x='UC',data=data)"
   ]
  },
  {
   "cell_type": "code",
   "execution_count": 123,
   "id": "84541f91-5021-47c0-8228-c9055c3b1462",
   "metadata": {},
   "outputs": [
    {
     "data": {
      "text/plain": [
       "{'whiskers': [<matplotlib.lines.Line2D at 0x258bc684a90>,\n",
       "  <matplotlib.lines.Line2D at 0x258bc684e20>],\n",
       " 'caps': [<matplotlib.lines.Line2D at 0x258bc6901f0>,\n",
       "  <matplotlib.lines.Line2D at 0x258bc690580>],\n",
       " 'boxes': [<matplotlib.lines.Line2D at 0x258bc684700>],\n",
       " 'medians': [<matplotlib.lines.Line2D at 0x258bc690910>],\n",
       " 'fliers': [<matplotlib.lines.Line2D at 0x258bc690ca0>],\n",
       " 'means': []}"
      ]
     },
     "execution_count": 123,
     "metadata": {},
     "output_type": "execute_result"
    },
    {
     "data": {
      "image/png": "[encoded data removed]",
      "text/plain": [
       "<Figure size 432x288 with 1 Axes>"
      ]
     },
     "metadata": {
      "needs_background": "light"
     },
     "output_type": "display_data"
    }
   ],
   "source": [
    "plt.boxplot(x='DS',data=data)"
   ]
  },
  {
   "cell_type": "code",
   "execution_count": 124,
   "id": "5d8172ee-6968-4649-bcd9-674422d8261c",
   "metadata": {},
   "outputs": [],
   "source": [
    "Q1 = data['DS'].quantile(0.25)\n",
    "Q3 = data['DS'].quantile(0.75)\n",
    "IQR = Q3 - Q1\n",
    "lower_bound = Q1 - 1.5 * IQR\n",
    "upper_bound = Q3 + 1.5 * IQR\n",
    "data = data[(data['DS'] >= lower_bound) & (data['DS'] <= upper_bound)]"
   ]
  },
  {
   "cell_type": "code",
   "execution_count": 125,
   "id": "5aaf8328-33b3-44f9-a0b7-f0cd1e332064",
   "metadata": {},
   "outputs": [
    {
     "data": {
      "text/plain": [
       "{'whiskers': [<matplotlib.lines.Line2D at 0x258bc6f89d0>,\n",
       "  <matplotlib.lines.Line2D at 0x258bc6f8d60>],\n",
       " 'caps': [<matplotlib.lines.Line2D at 0x258bc702130>,\n",
       "  <matplotlib.lines.Line2D at 0x258bc7024c0>],\n",
       " 'boxes': [<matplotlib.lines.Line2D at 0x258bc6f8640>],\n",
       " 'medians': [<matplotlib.lines.Line2D at 0x258bc702850>],\n",
       " 'fliers': [<matplotlib.lines.Line2D at 0x258bc702be0>],\n",
       " 'means': []}"
      ]
     },
     "execution_count": 125,
     "metadata": {},
     "output_type": "execute_result"
    },
    {
     "data": {
      "image/png": "[encoded data removed]",
      "text/plain": [
       "<Figure size 432x288 with 1 Axes>"
      ]
     },
     "metadata": {
      "needs_background": "light"
     },
     "output_type": "display_data"
    }
   ],
   "source": [
    "plt.boxplot(x='DS',data=data)"
   ]
  },
  {
   "cell_type": "code",
   "execution_count": 126,
   "id": "142f675e-3154-4209-a670-c32aa7f125ea",
   "metadata": {},
   "outputs": [
    {
     "data": {
      "text/plain": [
       "{'whiskers': [<matplotlib.lines.Line2D at 0x258bc753e50>,\n",
       "  <matplotlib.lines.Line2D at 0x258bc761220>],\n",
       " 'caps': [<matplotlib.lines.Line2D at 0x258bc7615b0>,\n",
       "  <matplotlib.lines.Line2D at 0x258bc761940>],\n",
       " 'boxes': [<matplotlib.lines.Line2D at 0x258bc753ac0>],\n",
       " 'medians': [<matplotlib.lines.Line2D at 0x258bc761cd0>],\n",
       " 'fliers': [<matplotlib.lines.Line2D at 0x258bc76d0a0>],\n",
       " 'means': []}"
      ]
     },
     "execution_count": 126,
     "metadata": {},
     "output_type": "execute_result"
    },
    {
     "data": {
      "image/png": "[encoded data removed]",
      "text/plain": [
       "<Figure size 432x288 with 1 Axes>"
      ]
     },
     "metadata": {
      "needs_background": "light"
     },
     "output_type": "display_data"
    }
   ],
   "source": [
    "plt.boxplot(x='DP',data=data)"
   ]
  },
  {
   "cell_type": "code",
   "execution_count": 127,
   "id": "f843cc1b-3cdc-4a1e-bc00-2b4bc220564d",
   "metadata": {},
   "outputs": [],
   "source": [
    "Q1 = data['DP'].quantile(0.25)\n",
    "Q3 = data['DP'].quantile(0.75)\n",
    "IQR = Q3 - Q1\n",
    "lower_bound = Q1 - 1.5 * IQR\n",
    "upper_bound = Q3 + 1.5 * IQR\n",
    "data = data[(data['DP'] >= lower_bound) & (data['DP'] <= upper_bound)]"
   ]
  },
  {
   "cell_type": "code",
   "execution_count": 128,
   "id": "0f003f68-6119-436f-9c04-a4416e6733f8",
   "metadata": {},
   "outputs": [
    {
     "data": {
      "text/plain": [
       "{'whiskers': [<matplotlib.lines.Line2D at 0x258bc7c7a30>,\n",
       "  <matplotlib.lines.Line2D at 0x258bc7c7dc0>],\n",
       " 'caps': [<matplotlib.lines.Line2D at 0x258bc7d5190>,\n",
       "  <matplotlib.lines.Line2D at 0x258bc7d5520>],\n",
       " 'boxes': [<matplotlib.lines.Line2D at 0x258bc7c77f0>],\n",
       " 'medians': [<matplotlib.lines.Line2D at 0x258bc7d58b0>],\n",
       " 'fliers': [<matplotlib.lines.Line2D at 0x258bc7d5c40>],\n",
       " 'means': []}"
      ]
     },
     "execution_count": 128,
     "metadata": {},
     "output_type": "execute_result"
    },
    {
     "data": {
      "image/png": "[encoded data removed]",
      "text/plain": [
       "<Figure size 432x288 with 1 Axes>"
      ]
     },
     "metadata": {
      "needs_background": "light"
     },
     "output_type": "display_data"
    }
   ],
   "source": [
    "plt.boxplot(x='DP',data=data)"
   ]
  },
  {
   "cell_type": "code",
   "execution_count": 129,
   "id": "5d81223b-59a1-4fac-ad3f-33002545adb5",
   "metadata": {},
   "outputs": [
    {
     "data": {
      "text/plain": [
       "{'whiskers': [<matplotlib.lines.Line2D at 0x258bc8334f0>,\n",
       "  <matplotlib.lines.Line2D at 0x258bc833820>],\n",
       " 'caps': [<matplotlib.lines.Line2D at 0x258bc833bb0>,\n",
       "  <matplotlib.lines.Line2D at 0x258bc833f40>],\n",
       " 'boxes': [<matplotlib.lines.Line2D at 0x258bc833160>],\n",
       " 'medians': [<matplotlib.lines.Line2D at 0x258bc841310>],\n",
       " 'fliers': [<matplotlib.lines.Line2D at 0x258bc8416a0>],\n",
       " 'means': []}"
      ]
     },
     "execution_count": 129,
     "metadata": {},
     "output_type": "execute_result"
    },
    {
     "data": {
      "image/png": "[encoded data removed]",
      "text/plain": [
       "<Figure size 432x288 with 1 Axes>"
      ]
     },
     "metadata": {
      "needs_background": "light"
     },
     "output_type": "display_data"
    }
   ],
   "source": [
    "plt.boxplot(x='ASTV',data=data)"
   ]
  },
  {
   "cell_type": "code",
   "execution_count": 130,
   "id": "8765bf2d-266d-4c68-9d75-4d46c28d5505",
   "metadata": {},
   "outputs": [],
   "source": [
    "Q1 = data['ASTV'].quantile(0.25)\n",
    "Q3 = data['ASTV'].quantile(0.75)\n",
    "IQR = Q3 - Q1\n",
    "lower_bound = Q1 - 1.5 * IQR\n",
    "upper_bound = Q3 + 1.5 * IQR\n",
    "data = data[(data['ASTV'] >= lower_bound) & (data['ASTV'] <= upper_bound)]"
   ]
  },
  {
   "cell_type": "code",
   "execution_count": 131,
   "id": "4ec3c407-8d2f-48a0-bc51-21e3c365c25b",
   "metadata": {},
   "outputs": [
    {
     "data": {
      "text/plain": [
       "{'whiskers': [<matplotlib.lines.Line2D at 0x258bc8956a0>,\n",
       "  <matplotlib.lines.Line2D at 0x258bc895a30>],\n",
       " 'caps': [<matplotlib.lines.Line2D at 0x258bc895dc0>,\n",
       "  <matplotlib.lines.Line2D at 0x258bc8a1190>],\n",
       " 'boxes': [<matplotlib.lines.Line2D at 0x258bc895310>],\n",
       " 'medians': [<matplotlib.lines.Line2D at 0x258bc8a1520>],\n",
       " 'fliers': [<matplotlib.lines.Line2D at 0x258bc8a18b0>],\n",
       " 'means': []}"
      ]
     },
     "execution_count": 131,
     "metadata": {},
     "output_type": "execute_result"
    },
    {
     "data": {
      "image/png": "[encoded data removed]",
      "text/plain": [
       "<Figure size 432x288 with 1 Axes>"
      ]
     },
     "metadata": {
      "needs_background": "light"
     },
     "output_type": "display_data"
    }
   ],
   "source": [
    "plt.boxplot(x='ASTV',data=data)"
   ]
  },
  {
   "cell_type": "code",
   "execution_count": 132,
   "id": "2cf176cb-2a5f-431e-8dec-bfb242453ec2",
   "metadata": {},
   "outputs": [
    {
     "data": {
      "text/plain": [
       "{'whiskers': [<matplotlib.lines.Line2D at 0x258bc8f9f70>,\n",
       "  <matplotlib.lines.Line2D at 0x258bc907340>],\n",
       " 'caps': [<matplotlib.lines.Line2D at 0x258bc9076d0>,\n",
       "  <matplotlib.lines.Line2D at 0x258bc907a60>],\n",
       " 'boxes': [<matplotlib.lines.Line2D at 0x258bc8f9be0>],\n",
       " 'medians': [<matplotlib.lines.Line2D at 0x258bc907df0>],\n",
       " 'fliers': [<matplotlib.lines.Line2D at 0x258bc9131c0>],\n",
       " 'means': []}"
      ]
     },
     "execution_count": 132,
     "metadata": {},
     "output_type": "execute_result"
    },
    {
     "data": {
      "image/png": "[encoded data removed]",
      "text/plain": [
       "<Figure size 432x288 with 1 Axes>"
      ]
     },
     "metadata": {
      "needs_background": "light"
     },
     "output_type": "display_data"
    }
   ],
   "source": [
    "plt.boxplot(x='MSTV',data=data)"
   ]
  },
  {
   "cell_type": "code",
   "execution_count": 133,
   "id": "f1a6f309-5c40-4a66-a941-da71f76e0f35",
   "metadata": {},
   "outputs": [],
   "source": [
    "Q1 = data['MSTV'].quantile(0.25)\n",
    "Q3 = data['MSTV'].quantile(0.75)\n",
    "IQR = Q3 - Q1\n",
    "lower_bound = Q1 - 1.5 * IQR\n",
    "upper_bound = Q3 + 1.5 * IQR\n",
    "data = data[(data['MSTV'] >= lower_bound) & (data['MSTV'] <= upper_bound)]"
   ]
  },
  {
   "cell_type": "code",
   "execution_count": 134,
   "id": "a2ff3fe7-3336-4ae5-bbe3-bf12c45169f8",
   "metadata": {},
   "outputs": [
    {
     "data": {
      "text/plain": [
       "{'whiskers': [<matplotlib.lines.Line2D at 0x258bc96e910>,\n",
       "  <matplotlib.lines.Line2D at 0x258bc96ec40>],\n",
       " 'caps': [<matplotlib.lines.Line2D at 0x258bc96efd0>,\n",
       "  <matplotlib.lines.Line2D at 0x258bc9783a0>],\n",
       " 'boxes': [<matplotlib.lines.Line2D at 0x258bc96e580>],\n",
       " 'medians': [<matplotlib.lines.Line2D at 0x258bc978730>],\n",
       " 'fliers': [<matplotlib.lines.Line2D at 0x258bc978ac0>],\n",
       " 'means': []}"
      ]
     },
     "execution_count": 134,
     "metadata": {},
     "output_type": "execute_result"
    },
    {
     "data": {
      "image/png": "[encoded data removed]",
      "text/plain": [
       "<Figure size 432x288 with 1 Axes>"
      ]
     },
     "metadata": {
      "needs_background": "light"
     },
     "output_type": "display_data"
    }
   ],
   "source": [
    "plt.boxplot(x='MSTV',data=data)"
   ]
  },
  {
   "cell_type": "code",
   "execution_count": 135,
   "id": "62e6babb-e81e-451d-8c78-d8efb9addd00",
   "metadata": {},
   "outputs": [
    {
     "data": {
      "text/plain": [
       "{'whiskers': [<matplotlib.lines.Line2D at 0x258bc9c7d60>,\n",
       "  <matplotlib.lines.Line2D at 0x258bc9d8130>],\n",
       " 'caps': [<matplotlib.lines.Line2D at 0x258bc9d84c0>,\n",
       "  <matplotlib.lines.Line2D at 0x258bc9d8850>],\n",
       " 'boxes': [<matplotlib.lines.Line2D at 0x258bc9c79d0>],\n",
       " 'medians': [<matplotlib.lines.Line2D at 0x258bc9d8be0>],\n",
       " 'fliers': [<matplotlib.lines.Line2D at 0x258bc9d8f70>],\n",
       " 'means': []}"
      ]
     },
     "execution_count": 135,
     "metadata": {},
     "output_type": "execute_result"
    },
    {
     "data": {
      "image/png": "[encoded data removed]",
      "text/plain": [
       "<Figure size 432x288 with 1 Axes>"
      ]
     },
     "metadata": {
      "needs_background": "light"
     },
     "output_type": "display_data"
    }
   ],
   "source": [
    "plt.boxplot(x='MLTV',data=data)"
   ]
  },
  {
   "cell_type": "code",
   "execution_count": 136,
   "id": "2158efdf-3eb7-4739-8700-9f3dd8586ced",
   "metadata": {},
   "outputs": [],
   "source": [
    "Q1 = data['MLTV'].quantile(0.25)\n",
    "Q3 = data['MLTV'].quantile(0.75)\n",
    "IQR = Q3 - Q1\n",
    "lower_bound = Q1 - 1.5 * IQR\n",
    "upper_bound = Q3 + 1.5 * IQR\n",
    "data = data[(data['MLTV'] >= lower_bound) & (data['MLTV'] <= upper_bound)]"
   ]
  },
  {
   "cell_type": "code",
   "execution_count": 137,
   "id": "632cf8de-dda9-4bb7-b82b-9fb6feacc976",
   "metadata": {},
   "outputs": [
    {
     "data": {
      "text/plain": [
       "{'whiskers': [<matplotlib.lines.Line2D at 0x258bca40400>,\n",
       "  <matplotlib.lines.Line2D at 0x258bca40790>],\n",
       " 'caps': [<matplotlib.lines.Line2D at 0x258bca40b20>,\n",
       "  <matplotlib.lines.Line2D at 0x258bca40eb0>],\n",
       " 'boxes': [<matplotlib.lines.Line2D at 0x258bca40070>],\n",
       " 'medians': [<matplotlib.lines.Line2D at 0x258bca4c280>],\n",
       " 'fliers': [<matplotlib.lines.Line2D at 0x258bca4c610>],\n",
       " 'means': []}"
      ]
     },
     "execution_count": 137,
     "metadata": {},
     "output_type": "execute_result"
    },
    {
     "data": {
      "image/png": "[encoded data removed]",
      "text/plain": [
       "<Figure size 432x288 with 1 Axes>"
      ]
     },
     "metadata": {
      "needs_background": "light"
     },
     "output_type": "display_data"
    }
   ],
   "source": [
    "plt.boxplot(x='MLTV',data=data)"
   ]
  },
  {
   "cell_type": "code",
   "execution_count": 138,
   "id": "90808e8f-cc6e-4955-a81c-3f882699101a",
   "metadata": {},
   "outputs": [
    {
     "data": {
      "text/plain": [
       "{'whiskers': [<matplotlib.lines.Line2D at 0x258bda841c0>,\n",
       "  <matplotlib.lines.Line2D at 0x258bda84550>],\n",
       " 'caps': [<matplotlib.lines.Line2D at 0x258bda848e0>,\n",
       "  <matplotlib.lines.Line2D at 0x258bda84c70>],\n",
       " 'boxes': [<matplotlib.lines.Line2D at 0x258bda74df0>],\n",
       " 'medians': [<matplotlib.lines.Line2D at 0x258bda8f040>],\n",
       " 'fliers': [<matplotlib.lines.Line2D at 0x258bda8f3d0>],\n",
       " 'means': []}"
      ]
     },
     "execution_count": 138,
     "metadata": {},
     "output_type": "execute_result"
    },
    {
     "data": {
      "image/png": "[encoded data removed]",
      "text/plain": [
       "<Figure size 432x288 with 1 Axes>"
      ]
     },
     "metadata": {
      "needs_background": "light"
     },
     "output_type": "display_data"
    }
   ],
   "source": [
    "plt.boxplot(x='Width',data=data)"
   ]
  },
  {
   "cell_type": "code",
   "execution_count": 139,
   "id": "7e7d088b-07d9-4572-b0e3-91eeed75288f",
   "metadata": {},
   "outputs": [],
   "source": [
    "Q1 = data['Width'].quantile(0.25)\n",
    "Q3 = data['Width'].quantile(0.75)\n",
    "IQR = Q3 - Q1\n",
    "lower_bound = Q1 - 1.5 * IQR\n",
    "upper_bound = Q3 + 1.5 * IQR\n",
    "data = data[(data['Width'] >= lower_bound) & (data['Width'] <= upper_bound)]"
   ]
  },
  {
   "cell_type": "code",
   "execution_count": 140,
   "id": "27f63912-2703-4a2a-b0f8-560446046d8a",
   "metadata": {},
   "outputs": [
    {
     "data": {
      "text/plain": [
       "{'whiskers': [<matplotlib.lines.Line2D at 0x258bdaed220>,\n",
       "  <matplotlib.lines.Line2D at 0x258bdaed5b0>],\n",
       " 'caps': [<matplotlib.lines.Line2D at 0x258bdaed940>,\n",
       "  <matplotlib.lines.Line2D at 0x258bdaedcd0>],\n",
       " 'boxes': [<matplotlib.lines.Line2D at 0x258bdadddc0>],\n",
       " 'medians': [<matplotlib.lines.Line2D at 0x258bdaf70a0>],\n",
       " 'fliers': [<matplotlib.lines.Line2D at 0x258bdaf7430>],\n",
       " 'means': []}"
      ]
     },
     "execution_count": 140,
     "metadata": {},
     "output_type": "execute_result"
    },
    {
     "data": {
      "image/png": "[encoded data removed]",
      "text/plain": [
       "<Figure size 432x288 with 1 Axes>"
      ]
     },
     "metadata": {
      "needs_background": "light"
     },
     "output_type": "display_data"
    }
   ],
   "source": [
    "plt.boxplot(x='Width',data=data)"
   ]
  },
  {
   "cell_type": "code",
   "execution_count": 141,
   "id": "af18e3c5-25aa-49f2-bf35-2b035c2fdb66",
   "metadata": {},
   "outputs": [
    {
     "data": {
      "text/plain": [
       "{'whiskers': [<matplotlib.lines.Line2D at 0x258bdb51b50>,\n",
       "  <matplotlib.lines.Line2D at 0x258bdb51ee0>],\n",
       " 'caps': [<matplotlib.lines.Line2D at 0x258bdb5e2b0>,\n",
       "  <matplotlib.lines.Line2D at 0x258bdb5e640>],\n",
       " 'boxes': [<matplotlib.lines.Line2D at 0x258bdb51820>],\n",
       " 'medians': [<matplotlib.lines.Line2D at 0x258bdb5e9d0>],\n",
       " 'fliers': [<matplotlib.lines.Line2D at 0x258bdb5ed60>],\n",
       " 'means': []}"
      ]
     },
     "execution_count": 141,
     "metadata": {},
     "output_type": "execute_result"
    },
    {
     "data": {
      "image/png": "[encoded data removed]",
      "text/plain": [
       "<Figure size 432x288 with 1 Axes>"
      ]
     },
     "metadata": {
      "needs_background": "light"
     },
     "output_type": "display_data"
    }
   ],
   "source": [
    "plt.boxplot(x='Tendency',data=data)"
   ]
  },
  {
   "cell_type": "code",
   "execution_count": 142,
   "id": "f7a59877-6b53-4130-93f8-0f5f279527d6",
   "metadata": {},
   "outputs": [],
   "source": [
    "Q1 = data['Tendency'].quantile(0.25)\n",
    "Q3 = data['Tendency'].quantile(0.75)\n",
    "IQR = Q3 - Q1\n",
    "lower_bound = Q1 - 1.5 * IQR\n",
    "upper_bound = Q3 + 1.5 * IQR\n",
    "data = data[(data['Tendency'] >= lower_bound) & (data['Tendency'] <= upper_bound)]"
   ]
  },
  {
   "cell_type": "code",
   "execution_count": 143,
   "id": "41e83bb7-b4ef-4f72-ae3c-83a547724903",
   "metadata": {},
   "outputs": [
    {
     "data": {
      "text/plain": [
       "{'whiskers': [<matplotlib.lines.Line2D at 0x258bdbb6cd0>,\n",
       "  <matplotlib.lines.Line2D at 0x258bdbc70a0>],\n",
       " 'caps': [<matplotlib.lines.Line2D at 0x258bdbc7430>,\n",
       "  <matplotlib.lines.Line2D at 0x258bdbc77c0>],\n",
       " 'boxes': [<matplotlib.lines.Line2D at 0x258bdbb6940>],\n",
       " 'medians': [<matplotlib.lines.Line2D at 0x258bdbc7b50>],\n",
       " 'fliers': [<matplotlib.lines.Line2D at 0x258bdbc7ee0>],\n",
       " 'means': []}"
      ]
     },
     "execution_count": 143,
     "metadata": {},
     "output_type": "execute_result"
    },
    {
     "data": {
      "image/png": "[encoded data removed]",
      "text/plain": [
       "<Figure size 432x288 with 1 Axes>"
      ]
     },
     "metadata": {
      "needs_background": "light"
     },
     "output_type": "display_data"
    }
   ],
   "source": [
    "plt.boxplot(x='Tendency',data=data)"
   ]
  },
  {
   "cell_type": "code",
   "execution_count": 144,
   "id": "4cffbc39-29d1-451c-a3fc-c3dd88069706",
   "metadata": {},
   "outputs": [
    {
     "data": {
      "text/plain": [
       "{'whiskers': [<matplotlib.lines.Line2D at 0x258bdc1a910>,\n",
       "  <matplotlib.lines.Line2D at 0x258bdc1aca0>],\n",
       " 'caps': [<matplotlib.lines.Line2D at 0x258bdc22070>,\n",
       "  <matplotlib.lines.Line2D at 0x258bdc22400>],\n",
       " 'boxes': [<matplotlib.lines.Line2D at 0x258bdc1a580>],\n",
       " 'medians': [<matplotlib.lines.Line2D at 0x258bdc22790>],\n",
       " 'fliers': [<matplotlib.lines.Line2D at 0x258bdc22b20>],\n",
       " 'means': []}"
      ]
     },
     "execution_count": 144,
     "metadata": {},
     "output_type": "execute_result"
    },
    {
     "data": {
      "image/png": "[encoded data removed]",
      "text/plain": [
       "<Figure size 432x288 with 1 Axes>"
      ]
     },
     "metadata": {
      "needs_background": "light"
     },
     "output_type": "display_data"
    }
   ],
   "source": [
    "plt.boxplot(x='NSP',data=data)"
   ]
  },
  {
   "cell_type": "code",
   "execution_count": 145,
   "id": "fe771ac3-d8bf-4b12-adbb-c91748e01cd9",
   "metadata": {},
   "outputs": [],
   "source": [
    "Q1 = data['NSP'].quantile(0.25)\n",
    "Q3 = data['NSP'].quantile(0.75)\n",
    "IQR = Q3 - Q1\n",
    "lower_bound = Q1 - 1.5 * IQR\n",
    "upper_bound = Q3 + 1.5 * IQR\n",
    "data = data[(data['NSP'] >= lower_bound) & (data['NSP'] <= upper_bound)]"
   ]
  },
  {
   "cell_type": "code",
   "execution_count": 146,
   "id": "a91ec383-6f42-46ca-bc42-c4e9462d8bfa",
   "metadata": {},
   "outputs": [
    {
     "data": {
      "text/plain": [
       "{'whiskers': [<matplotlib.lines.Line2D at 0x258bdc71be0>,\n",
       "  <matplotlib.lines.Line2D at 0x258bdc71f70>],\n",
       " 'caps': [<matplotlib.lines.Line2D at 0x258bdc7e340>,\n",
       "  <matplotlib.lines.Line2D at 0x258bdc7e6d0>],\n",
       " 'boxes': [<matplotlib.lines.Line2D at 0x258bdc71850>],\n",
       " 'medians': [<matplotlib.lines.Line2D at 0x258bdc7ea60>],\n",
       " 'fliers': [<matplotlib.lines.Line2D at 0x258bdc7edf0>],\n",
       " 'means': []}"
      ]
     },
     "execution_count": 146,
     "metadata": {},
     "output_type": "execute_result"
    },
    {
     "data": {
      "image/png": "[encoded data removed]",
      "text/plain": [
       "<Figure size 432x288 with 1 Axes>"
      ]
     },
     "metadata": {
      "needs_background": "light"
     },
     "output_type": "display_data"
    }
   ],
   "source": [
    "plt.boxplot(x='NSP',data=data)"
   ]
  },
  {
   "cell_type": "code",
   "execution_count": 147,
   "id": "44716a74-3dd7-4b15-aea8-226b21027ca3",
   "metadata": {
    "scrolled": true
   },
   "outputs": [
    {
     "data": {
      "text/html": [
       "<div>\n",
       "<style scoped>\n",
       "    .dataframe tbody tr th:only-of-type {\n",
       "        vertical-align: middle;\n",
       "    }\n",
       "\n",
       "    .dataframe tbody tr th {\n",
       "        vertical-align: top;\n",
       "    }\n",
       "\n",
       "    .dataframe thead th {\n",
       "        text-align: right;\n",
       "    }\n",
       "</style>\n",
       "<table border=\"1\" class=\"dataframe\">\n",
       "  <thead>\n",
       "    <tr style=\"text-align: right;\">\n",
       "      <th></th>\n",
       "      <th>LB</th>\n",
       "      <th>AC</th>\n",
       "      <th>FM</th>\n",
       "      <th>UC</th>\n",
       "      <th>DL</th>\n",
       "      <th>DS</th>\n",
       "      <th>DP</th>\n",
       "      <th>ASTV</th>\n",
       "      <th>MSTV</th>\n",
       "      <th>ALTV</th>\n",
       "      <th>MLTV</th>\n",
       "      <th>Width</th>\n",
       "      <th>Tendency</th>\n",
       "      <th>NSP</th>\n",
       "    </tr>\n",
       "  </thead>\n",
       "  <tbody>\n",
       "    <tr>\n",
       "      <th>count</th>\n",
       "      <td>884.000000</td>\n",
       "      <td>884.000000</td>\n",
       "      <td>884.000000</td>\n",
       "      <td>884.000000</td>\n",
       "      <td>884.000000</td>\n",
       "      <td>884.0</td>\n",
       "      <td>884.0</td>\n",
       "      <td>884.000000</td>\n",
       "      <td>884.000000</td>\n",
       "      <td>884.000000</td>\n",
       "      <td>884.000000</td>\n",
       "      <td>884.000000</td>\n",
       "      <td>884.000000</td>\n",
       "      <td>884.0</td>\n",
       "    </tr>\n",
       "    <tr>\n",
       "      <th>mean</th>\n",
       "      <td>132.040762</td>\n",
       "      <td>0.004139</td>\n",
       "      <td>0.000603</td>\n",
       "      <td>0.004913</td>\n",
       "      <td>0.001499</td>\n",
       "      <td>0.0</td>\n",
       "      <td>0.0</td>\n",
       "      <td>42.409542</td>\n",
       "      <td>1.246387</td>\n",
       "      <td>3.395953</td>\n",
       "      <td>8.533525</td>\n",
       "      <td>66.616855</td>\n",
       "      <td>0.341700</td>\n",
       "      <td>1.0</td>\n",
       "    </tr>\n",
       "    <tr>\n",
       "      <th>std</th>\n",
       "      <td>9.285937</td>\n",
       "      <td>0.003850</td>\n",
       "      <td>0.001349</td>\n",
       "      <td>0.002685</td>\n",
       "      <td>0.002208</td>\n",
       "      <td>0.0</td>\n",
       "      <td>0.0</td>\n",
       "      <td>15.030859</td>\n",
       "      <td>0.509918</td>\n",
       "      <td>6.447475</td>\n",
       "      <td>4.483267</td>\n",
       "      <td>31.547380</td>\n",
       "      <td>0.581785</td>\n",
       "      <td>0.0</td>\n",
       "    </tr>\n",
       "    <tr>\n",
       "      <th>min</th>\n",
       "      <td>106.000000</td>\n",
       "      <td>-0.000122</td>\n",
       "      <td>-0.002467</td>\n",
       "      <td>-0.000101</td>\n",
       "      <td>-0.000124</td>\n",
       "      <td>0.0</td>\n",
       "      <td>0.0</td>\n",
       "      <td>15.000000</td>\n",
       "      <td>0.300000</td>\n",
       "      <td>-1.043619</td>\n",
       "      <td>-0.136053</td>\n",
       "      <td>12.000000</td>\n",
       "      <td>-1.006614</td>\n",
       "      <td>1.0</td>\n",
       "    </tr>\n",
       "    <tr>\n",
       "      <th>25%</th>\n",
       "      <td>125.000000</td>\n",
       "      <td>0.000000</td>\n",
       "      <td>0.000000</td>\n",
       "      <td>0.003103</td>\n",
       "      <td>0.000000</td>\n",
       "      <td>0.0</td>\n",
       "      <td>0.0</td>\n",
       "      <td>29.000000</td>\n",
       "      <td>0.900000</td>\n",
       "      <td>0.000000</td>\n",
       "      <td>5.600000</td>\n",
       "      <td>40.000000</td>\n",
       "      <td>0.000000</td>\n",
       "      <td>1.0</td>\n",
       "    </tr>\n",
       "    <tr>\n",
       "      <th>50%</th>\n",
       "      <td>133.000000</td>\n",
       "      <td>0.003354</td>\n",
       "      <td>0.000000</td>\n",
       "      <td>0.005004</td>\n",
       "      <td>0.000000</td>\n",
       "      <td>0.0</td>\n",
       "      <td>0.0</td>\n",
       "      <td>41.000000</td>\n",
       "      <td>1.200000</td>\n",
       "      <td>0.000000</td>\n",
       "      <td>8.400000</td>\n",
       "      <td>60.000000</td>\n",
       "      <td>0.000000</td>\n",
       "      <td>1.0</td>\n",
       "    </tr>\n",
       "    <tr>\n",
       "      <th>75%</th>\n",
       "      <td>138.250000</td>\n",
       "      <td>0.006805</td>\n",
       "      <td>0.000289</td>\n",
       "      <td>0.006833</td>\n",
       "      <td>0.002765</td>\n",
       "      <td>0.0</td>\n",
       "      <td>0.0</td>\n",
       "      <td>56.000000</td>\n",
       "      <td>1.600000</td>\n",
       "      <td>4.000000</td>\n",
       "      <td>11.300000</td>\n",
       "      <td>92.000000</td>\n",
       "      <td>1.000000</td>\n",
       "      <td>1.0</td>\n",
       "    </tr>\n",
       "    <tr>\n",
       "      <th>max</th>\n",
       "      <td>160.000000</td>\n",
       "      <td>0.015642</td>\n",
       "      <td>0.006565</td>\n",
       "      <td>0.012072</td>\n",
       "      <td>0.008197</td>\n",
       "      <td>0.0</td>\n",
       "      <td>0.0</td>\n",
       "      <td>79.000000</td>\n",
       "      <td>2.800000</td>\n",
       "      <td>30.000000</td>\n",
       "      <td>20.000000</td>\n",
       "      <td>163.000000</td>\n",
       "      <td>1.023635</td>\n",
       "      <td>1.0</td>\n",
       "    </tr>\n",
       "  </tbody>\n",
       "</table>\n",
       "</div>"
      ],
      "text/plain": [
       "               LB          AC          FM          UC          DL     DS  \\\n",
       "count  884.000000  884.000000  884.000000  884.000000  884.000000  884.0   \n",
       "mean   132.040762    0.004139    0.000603    0.004913    0.001499    0.0   \n",
       "std      9.285937    0.003850    0.001349    0.002685    0.002208    0.0   \n",
       "min    106.000000   -0.000122   -0.002467   -0.000101   -0.000124    0.0   \n",
       "25%    125.000000    0.000000    0.000000    0.003103    0.000000    0.0   \n",
       "50%    133.000000    0.003354    0.000000    0.005004    0.000000    0.0   \n",
       "75%    138.250000    0.006805    0.000289    0.006833    0.002765    0.0   \n",
       "max    160.000000    0.015642    0.006565    0.012072    0.008197    0.0   \n",
       "\n",
       "          DP        ASTV        MSTV        ALTV        MLTV       Width  \\\n",
       "count  884.0  884.000000  884.000000  884.000000  884.000000  884.000000   \n",
       "mean     0.0   42.409542    1.246387    3.395953    8.533525   66.616855   \n",
       "std      0.0   15.030859    0.509918    6.447475    4.483267   31.547380   \n",
       "min      0.0   15.000000    0.300000   -1.043619   -0.136053   12.000000   \n",
       "25%      0.0   29.000000    0.900000    0.000000    5.600000   40.000000   \n",
       "50%      0.0   41.000000    1.200000    0.000000    8.400000   60.000000   \n",
       "75%      0.0   56.000000    1.600000    4.000000   11.300000   92.000000   \n",
       "max      0.0   79.000000    2.800000   30.000000   20.000000  163.000000   \n",
       "\n",
       "         Tendency    NSP  \n",
       "count  884.000000  884.0  \n",
       "mean     0.341700    1.0  \n",
       "std      0.581785    0.0  \n",
       "min     -1.006614    1.0  \n",
       "25%      0.000000    1.0  \n",
       "50%      0.000000    1.0  \n",
       "75%      1.000000    1.0  \n",
       "max      1.023635    1.0  "
      ]
     },
     "execution_count": 147,
     "metadata": {},
     "output_type": "execute_result"
    }
   ],
   "source": [
    "data.describe()"
   ]
  },
  {
   "cell_type": "code",
   "execution_count": null,
   "id": "633018af",
   "metadata": {},
   "outputs": [],
   "source": []
  }
 ],
 "metadata": {
  "kernelspec": {
   "display_name": "Python 3 (ipykernel)",
   "language": "python",
   "name": "python3"
  },
  "language_info": {
   "codemirror_mode": {
    "name": "ipython",
    "version": 3
   },
   "file_extension": ".py",
   "mimetype": "text/x-python",
   "name": "python",
   "nbconvert_exporter": "python",
   "pygments_lexer": "ipython3",
   "version": "3.9.7"
  }
 },
 "nbformat": 4,
 "nbformat_minor": 5
}
