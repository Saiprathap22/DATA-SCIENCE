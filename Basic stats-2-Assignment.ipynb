{
 "cells": [
  {
   "cell_type": "code",
   "execution_count": 1,
   "id": "4d94e15b",
   "metadata": {},
   "outputs": [],
   "source": [
    "from scipy import stats\n",
    "import numpy as np\n",
    "import pandas as pd"
   ]
  },
  {
   "cell_type": "code",
   "execution_count": 2,
   "id": "1960bfa8",
   "metadata": {},
   "outputs": [
    {
     "name": "stdout",
     "output_type": "stream",
     "text": [
      "0     1.13\n",
      "1     1.55\n",
      "2     1.43\n",
      "3     0.92\n",
      "4     1.25\n",
      "5     1.36\n",
      "6     1.32\n",
      "7     0.85\n",
      "8     1.07\n",
      "9     1.48\n",
      "10    1.20\n",
      "11    1.33\n",
      "12    1.18\n",
      "13    1.22\n",
      "14    1.29\n",
      "dtype: float64\n"
     ]
    }
   ],
   "source": [
    "data=pd.Series([1.13, 1.55, 1.43, 0.92, 1.25, 1.36, 1.32, 0.85, 1.07, 1.48, 1.20, 1.33, 1.18, 1.22, 1.29])\n",
    "print(data)"
   ]
  },
  {
   "cell_type": "code",
   "execution_count": 4,
   "id": "0faf1b39",
   "metadata": {},
   "outputs": [
    {
     "data": {
      "text/plain": [
       "0.19316412956959936"
      ]
     },
     "execution_count": 4,
     "metadata": {},
     "output_type": "execute_result"
    }
   ],
   "source": [
    "data.std()"
   ]
  },
  {
   "cell_type": "code",
   "execution_count": 3,
   "id": "069bf5ed",
   "metadata": {},
   "outputs": [
    {
     "data": {
      "text/plain": [
       "1.2386666666666666"
      ]
     },
     "execution_count": 3,
     "metadata": {},
     "output_type": "execute_result"
    }
   ],
   "source": [
    "data.mean()"
   ]
  },
  {
   "cell_type": "code",
   "execution_count": 5,
   "id": "0bb8a210",
   "metadata": {},
   "outputs": [
    {
     "data": {
      "text/plain": [
       "2.97684273411266"
      ]
     },
     "execution_count": 5,
     "metadata": {},
     "output_type": "execute_result"
    }
   ],
   "source": [
    "stats.t.ppf(0.995,14)"
   ]
  },
  {
   "cell_type": "code",
   "execution_count": 8,
   "id": "7dfe8f3c",
   "metadata": {},
   "outputs": [
    {
     "data": {
      "text/plain": [
       "0.04987476379384733"
      ]
     },
     "execution_count": 8,
     "metadata": {},
     "output_type": "execute_result"
    }
   ],
   "source": [
    "S=data.std()/np.sqrt(15)\n",
    "S"
   ]
  },
  {
   "cell_type": "markdown",
   "id": "7d142f53",
   "metadata": {},
   "source": [
    "#####  Building  99% Confidence Interval Using Sample Standard Deviation"
   ]
  },
  {
   "cell_type": "code",
   "execution_count": 9,
   "id": "ad2c00e5",
   "metadata": {},
   "outputs": [
    {
     "data": {
      "text/plain": [
       "(1.1209262906354935, 1.3590737093645064)"
      ]
     },
     "execution_count": 9,
     "metadata": {},
     "output_type": "execute_result"
    }
   ],
   "source": [
    "stats.t.interval(0.99,14,1.24,0.04)"
   ]
  },
  {
   "cell_type": "markdown",
   "id": "d7f26872",
   "metadata": {},
   "source": [
    "#####  Building 99% Confidence Interval Using Known Population Standard Deviation(0.2)"
   ]
  },
  {
   "cell_type": "code",
   "execution_count": 10,
   "id": "659dee6b",
   "metadata": {},
   "outputs": [
    {
     "data": {
      "text/plain": [
       "0.051639777949432225"
      ]
     },
     "execution_count": 10,
     "metadata": {},
     "output_type": "execute_result"
    }
   ],
   "source": [
    "sigma=0.2/np.sqrt(15)\n",
    "sigma"
   ]
  },
  {
   "cell_type": "code",
   "execution_count": 11,
   "id": "5a77b00a",
   "metadata": {},
   "outputs": [
    {
     "data": {
      "text/plain": [
       "(1.1112085348225549, 1.368791465177445)"
      ]
     },
     "execution_count": 11,
     "metadata": {},
     "output_type": "execute_result"
    }
   ],
   "source": [
    "stats.norm.interval(0.99,1.24,0.05)"
   ]
  },
  {
   "cell_type": "code",
   "execution_count": 12,
   "id": "2b802d3b",
   "metadata": {},
   "outputs": [
    {
     "data": {
      "text/plain": [
       "2.5758293035489004"
      ]
     },
     "execution_count": 12,
     "metadata": {},
     "output_type": "execute_result"
    }
   ],
   "source": [
    "stats.norm.ppf(0.995)"
   ]
  },
  {
   "cell_type": "code",
   "execution_count": 13,
   "id": "8b78fca8",
   "metadata": {},
   "outputs": [],
   "source": [
    "##stats.norm.interval(0.99,1.24,0.2)"
   ]
  },
  {
   "cell_type": "markdown",
   "id": "9de451ac",
   "metadata": {},
   "source": [
    "#####  Explanation\n",
    "Part a: We use the t-distribution in this part because it has a small sample size, and we use the sample standard deviation to estimate the population standard deviation.\n",
    "\n",
    "part b: uses a z-distribution due to the fact that it involves a known value of the population standard deviation, which gives a very close estimate for the confidence interval."
   ]
  },
  {
   "cell_type": "code",
   "execution_count": null,
   "id": "9bde4317",
   "metadata": {},
   "outputs": [],
   "source": []
  }
 ],
 "metadata": {
  "kernelspec": {
   "display_name": "Python 3 (ipykernel)",
   "language": "python",
   "name": "python3"
  },
  "language_info": {
   "codemirror_mode": {
    "name": "ipython",
    "version": 3
   },
   "file_extension": ".py",
   "mimetype": "text/x-python",
   "name": "python",
   "nbconvert_exporter": "python",
   "pygments_lexer": "ipython3",
   "version": "3.9.7"
  }
 },
 "nbformat": 4,
 "nbformat_minor": 5
}
